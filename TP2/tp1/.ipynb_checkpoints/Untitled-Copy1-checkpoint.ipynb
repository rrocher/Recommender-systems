{
 "cells": [
  {
   "cell_type": "code",
   "execution_count": 1,
   "metadata": {},
   "outputs": [],
   "source": [
    "import numpy as np\n",
    "import matplotlib.pyplot as plt\n",
    "import pandas as pd\n",
    "%matplotlib inline\n",
    "\n",
    "df_data = pd.read_csv('./files/u.data',sep='|')"
   ]
  },
  {
   "cell_type": "code",
   "execution_count": 2,
   "metadata": {},
   "outputs": [],
   "source": [
    "\n",
    "df_user = pd.read_csv('./files/u.user.csv',sep='|')\n",
    "df_item = pd.read_csv('./files/u.item.csv',sep='|')"
   ]
  },
  {
   "cell_type": "code",
   "execution_count": 3,
   "metadata": {},
   "outputs": [
    {
     "data": {
      "text/html": [
       "<div>\n",
       "<style scoped>\n",
       "    .dataframe tbody tr th:only-of-type {\n",
       "        vertical-align: middle;\n",
       "    }\n",
       "\n",
       "    .dataframe tbody tr th {\n",
       "        vertical-align: top;\n",
       "    }\n",
       "\n",
       "    .dataframe thead th {\n",
       "        text-align: right;\n",
       "    }\n",
       "</style>\n",
       "<table border=\"1\" class=\"dataframe\">\n",
       "  <thead>\n",
       "    <tr style=\"text-align: right;\">\n",
       "      <th></th>\n",
       "      <th>user.id</th>\n",
       "      <th>item.id</th>\n",
       "      <th>rating</th>\n",
       "      <th>timestamp</th>\n",
       "    </tr>\n",
       "  </thead>\n",
       "  <tbody>\n",
       "    <tr>\n",
       "      <th>0</th>\n",
       "      <td>196</td>\n",
       "      <td>242</td>\n",
       "      <td>3</td>\n",
       "      <td>881250949</td>\n",
       "    </tr>\n",
       "    <tr>\n",
       "      <th>1</th>\n",
       "      <td>186</td>\n",
       "      <td>302</td>\n",
       "      <td>3</td>\n",
       "      <td>891717742</td>\n",
       "    </tr>\n",
       "    <tr>\n",
       "      <th>2</th>\n",
       "      <td>22</td>\n",
       "      <td>377</td>\n",
       "      <td>1</td>\n",
       "      <td>878887116</td>\n",
       "    </tr>\n",
       "    <tr>\n",
       "      <th>3</th>\n",
       "      <td>244</td>\n",
       "      <td>51</td>\n",
       "      <td>2</td>\n",
       "      <td>880606923</td>\n",
       "    </tr>\n",
       "    <tr>\n",
       "      <th>4</th>\n",
       "      <td>166</td>\n",
       "      <td>346</td>\n",
       "      <td>1</td>\n",
       "      <td>886397596</td>\n",
       "    </tr>\n",
       "  </tbody>\n",
       "</table>\n",
       "</div>"
      ],
      "text/plain": [
       "   user.id  item.id  rating  timestamp\n",
       "0      196      242       3  881250949\n",
       "1      186      302       3  891717742\n",
       "2       22      377       1  878887116\n",
       "3      244       51       2  880606923\n",
       "4      166      346       1  886397596"
      ]
     },
     "execution_count": 3,
     "metadata": {},
     "output_type": "execute_result"
    }
   ],
   "source": [
    "df_data.head()"
   ]
  },
  {
   "cell_type": "code",
   "execution_count": 4,
   "metadata": {},
   "outputs": [
    {
     "data": {
      "text/html": [
       "<div>\n",
       "<style scoped>\n",
       "    .dataframe tbody tr th:only-of-type {\n",
       "        vertical-align: middle;\n",
       "    }\n",
       "\n",
       "    .dataframe tbody tr th {\n",
       "        vertical-align: top;\n",
       "    }\n",
       "\n",
       "    .dataframe thead th {\n",
       "        text-align: right;\n",
       "    }\n",
       "</style>\n",
       "<table border=\"1\" class=\"dataframe\">\n",
       "  <thead>\n",
       "    <tr style=\"text-align: right;\">\n",
       "      <th></th>\n",
       "      <th>id</th>\n",
       "      <th>age</th>\n",
       "      <th>gender</th>\n",
       "      <th>job</th>\n",
       "      <th>zip</th>\n",
       "    </tr>\n",
       "  </thead>\n",
       "  <tbody>\n",
       "    <tr>\n",
       "      <th>0</th>\n",
       "      <td>1</td>\n",
       "      <td>24</td>\n",
       "      <td>M</td>\n",
       "      <td>technician</td>\n",
       "      <td>85711</td>\n",
       "    </tr>\n",
       "    <tr>\n",
       "      <th>1</th>\n",
       "      <td>2</td>\n",
       "      <td>53</td>\n",
       "      <td>F</td>\n",
       "      <td>other</td>\n",
       "      <td>94043</td>\n",
       "    </tr>\n",
       "    <tr>\n",
       "      <th>2</th>\n",
       "      <td>3</td>\n",
       "      <td>23</td>\n",
       "      <td>M</td>\n",
       "      <td>writer</td>\n",
       "      <td>32067</td>\n",
       "    </tr>\n",
       "    <tr>\n",
       "      <th>3</th>\n",
       "      <td>4</td>\n",
       "      <td>24</td>\n",
       "      <td>M</td>\n",
       "      <td>technician</td>\n",
       "      <td>43537</td>\n",
       "    </tr>\n",
       "    <tr>\n",
       "      <th>4</th>\n",
       "      <td>5</td>\n",
       "      <td>33</td>\n",
       "      <td>F</td>\n",
       "      <td>other</td>\n",
       "      <td>15213</td>\n",
       "    </tr>\n",
       "  </tbody>\n",
       "</table>\n",
       "</div>"
      ],
      "text/plain": [
       "   id    age   gender         job     zip\n",
       "0    1     24        M  technician  85711\n",
       "1    2     53        F       other  94043\n",
       "2    3     23        M      writer  32067\n",
       "3    4     24        M  technician  43537\n",
       "4    5     33        F       other  15213"
      ]
     },
     "execution_count": 4,
     "metadata": {},
     "output_type": "execute_result"
    }
   ],
   "source": [
    "df_user.head()"
   ]
  },
  {
   "cell_type": "code",
   "execution_count": 5,
   "metadata": {},
   "outputs": [
    {
     "data": {
      "text/plain": [
       "Index(['user.id', 'item.id', 'rating', 'timestamp'], dtype='object')"
      ]
     },
     "execution_count": 5,
     "metadata": {},
     "output_type": "execute_result"
    }
   ],
   "source": [
    "df_data.columns"
   ]
  },
  {
   "cell_type": "code",
   "execution_count": 6,
   "metadata": {},
   "outputs": [],
   "source": [
    "df_data.columns=['id', 'item.id', 'rating', 'timestamp']"
   ]
  },
  {
   "cell_type": "code",
   "execution_count": 7,
   "metadata": {},
   "outputs": [
    {
     "data": {
      "text/html": [
       "<div>\n",
       "<style scoped>\n",
       "    .dataframe tbody tr th:only-of-type {\n",
       "        vertical-align: middle;\n",
       "    }\n",
       "\n",
       "    .dataframe tbody tr th {\n",
       "        vertical-align: top;\n",
       "    }\n",
       "\n",
       "    .dataframe thead th {\n",
       "        text-align: right;\n",
       "    }\n",
       "</style>\n",
       "<table border=\"1\" class=\"dataframe\">\n",
       "  <thead>\n",
       "    <tr style=\"text-align: right;\">\n",
       "      <th></th>\n",
       "      <th>id</th>\n",
       "      <th>item.id</th>\n",
       "      <th>rating</th>\n",
       "      <th>timestamp</th>\n",
       "    </tr>\n",
       "  </thead>\n",
       "  <tbody>\n",
       "    <tr>\n",
       "      <th>0</th>\n",
       "      <td>196</td>\n",
       "      <td>242</td>\n",
       "      <td>3</td>\n",
       "      <td>881250949</td>\n",
       "    </tr>\n",
       "    <tr>\n",
       "      <th>1</th>\n",
       "      <td>186</td>\n",
       "      <td>302</td>\n",
       "      <td>3</td>\n",
       "      <td>891717742</td>\n",
       "    </tr>\n",
       "    <tr>\n",
       "      <th>2</th>\n",
       "      <td>22</td>\n",
       "      <td>377</td>\n",
       "      <td>1</td>\n",
       "      <td>878887116</td>\n",
       "    </tr>\n",
       "    <tr>\n",
       "      <th>3</th>\n",
       "      <td>244</td>\n",
       "      <td>51</td>\n",
       "      <td>2</td>\n",
       "      <td>880606923</td>\n",
       "    </tr>\n",
       "    <tr>\n",
       "      <th>4</th>\n",
       "      <td>166</td>\n",
       "      <td>346</td>\n",
       "      <td>1</td>\n",
       "      <td>886397596</td>\n",
       "    </tr>\n",
       "  </tbody>\n",
       "</table>\n",
       "</div>"
      ],
      "text/plain": [
       "    id  item.id  rating  timestamp\n",
       "0  196      242       3  881250949\n",
       "1  186      302       3  891717742\n",
       "2   22      377       1  878887116\n",
       "3  244       51       2  880606923\n",
       "4  166      346       1  886397596"
      ]
     },
     "execution_count": 7,
     "metadata": {},
     "output_type": "execute_result"
    }
   ],
   "source": [
    "df_data.head()"
   ]
  },
  {
   "cell_type": "code",
   "execution_count": 8,
   "metadata": {},
   "outputs": [
    {
     "data": {
      "text/plain": [
       "Index(['id', 'item.id', 'rating', 'timestamp'], dtype='object')"
      ]
     },
     "execution_count": 8,
     "metadata": {},
     "output_type": "execute_result"
    }
   ],
   "source": [
    "df_data.columns"
   ]
  },
  {
   "cell_type": "code",
   "execution_count": 9,
   "metadata": {},
   "outputs": [],
   "source": [
    "df_user.columns = ['id', 'age', 'gender', 'job', 'zip']"
   ]
  },
  {
   "cell_type": "code",
   "execution_count": 10,
   "metadata": {},
   "outputs": [],
   "source": [
    "\n",
    "df_user_da = pd.merge(df_data, df_user, on='id')"
   ]
  },
  {
   "cell_type": "code",
   "execution_count": 11,
   "metadata": {},
   "outputs": [],
   "source": [
    "job_counts = df_user_da['job'].value_counts()"
   ]
  },
  {
   "cell_type": "code",
   "execution_count": 12,
   "metadata": {},
   "outputs": [],
   "source": [
    "students = df_user_da.loc[df_user_da['job'] == 'student'].rating"
   ]
  },
  {
   "cell_type": "code",
   "execution_count": 13,
   "metadata": {},
   "outputs": [],
   "source": [
    "jobs = job_counts.index"
   ]
  },
  {
   "cell_type": "code",
   "execution_count": 14,
   "metadata": {},
   "outputs": [
    {
     "data": {
      "text/plain": [
       "pandas.core.indexes.base.Index"
      ]
     },
     "execution_count": 14,
     "metadata": {},
     "output_type": "execute_result"
    }
   ],
   "source": [
    "type(jobs)"
   ]
  },
  {
   "cell_type": "code",
   "execution_count": 15,
   "metadata": {},
   "outputs": [
    {
     "name": "stdout",
     "output_type": "stream",
     "text": [
      "student\n",
      "other\n",
      "educator\n",
      "engineer\n",
      "programmer\n",
      "administrator\n",
      "writer\n",
      "librarian\n",
      "technician\n",
      "executive\n",
      "healthcare\n",
      "artist\n",
      "entertainment\n",
      "scientist\n",
      "marketing\n",
      "retired\n",
      "lawyer\n",
      "none\n",
      "salesman\n",
      "doctor\n",
      "homemaker\n"
     ]
    }
   ],
   "source": [
    "for job in jobs:\n",
    "    print(job)"
   ]
  },
  {
   "cell_type": "code",
   "execution_count": 16,
   "metadata": {},
   "outputs": [],
   "source": [
    "dd = {}\n",
    "for job in jobs:\n",
    "    dd[job] = df_user_da.loc[df_user_da['job'] == job].rating"
   ]
  },
  {
   "cell_type": "code",
   "execution_count": 17,
   "metadata": {},
   "outputs": [
    {
     "name": "stdout",
     "output_type": "stream",
     "text": [
      "programmer:3.5682604794257147\n",
      "student:3.5151432345038027\n",
      "librarian:3.560781338896264\n",
      "artist:3.653379549393414\n",
      "homemaker:3.301003344481605\n",
      "engineer:3.541406727828746\n",
      "scientist:3.611273080660836\n",
      "retired:3.4667495338719703\n",
      "healthcare:2.896219686162625\n",
      "executive:3.3491037320011756\n",
      "administrator:3.6356464768017114\n",
      "other:3.5523773797242804\n",
      "salesman:3.582943925233645\n",
      "technician:3.5322304620650313\n",
      "entertainment:3.4410501193317424\n",
      "marketing:3.4856410256410255\n",
      "lawyer:3.7353159851301116\n",
      "educator:3.6706206312221985\n",
      "none:3.779134295227525\n",
      "writer:3.3757225433526012\n",
      "doctor:3.688888888888889\n"
     ]
    }
   ],
   "source": [
    "for k, v in dd.items():\n",
    "    mean = dd[k].mean()\n",
    "    print(str(k)+\":\"+str(mean))"
   ]
  },
  {
   "cell_type": "code",
   "execution_count": 18,
   "metadata": {},
   "outputs": [],
   "source": [
    "df_user_da.columns = ['id', 'movie.id', 'rating', 'timestamp', 'age', 'gender', 'job', 'zip']\n",
    "df_item.columns= ['movie.id','movie.title','release.date','video release date',\n",
    "      'IMDb URL','unknown','Action','Adventure','Animation',\n",
    "      'Childrens','Comedy','Crime','Documentary','Drama',\n",
    "      'Fantasy','Film-Noir','Horror','Musical','Mystery',\n",
    "      'Romance','Sci-Fi','Thriller','War','Western']"
   ]
  },
  {
   "cell_type": "code",
   "execution_count": 19,
   "metadata": {},
   "outputs": [],
   "source": [
    "df_user_items = pd.merge(df_user_da, df_item, on='movie.id')"
   ]
  },
  {
   "cell_type": "code",
   "execution_count": 20,
   "metadata": {
    "scrolled": true
   },
   "outputs": [
    {
     "data": {
      "text/html": [
       "<div>\n",
       "<style scoped>\n",
       "    .dataframe tbody tr th:only-of-type {\n",
       "        vertical-align: middle;\n",
       "    }\n",
       "\n",
       "    .dataframe tbody tr th {\n",
       "        vertical-align: top;\n",
       "    }\n",
       "\n",
       "    .dataframe thead th {\n",
       "        text-align: right;\n",
       "    }\n",
       "</style>\n",
       "<table border=\"1\" class=\"dataframe\">\n",
       "  <thead>\n",
       "    <tr style=\"text-align: right;\">\n",
       "      <th></th>\n",
       "      <th>id</th>\n",
       "      <th>movie.id</th>\n",
       "      <th>rating</th>\n",
       "      <th>timestamp</th>\n",
       "      <th>age</th>\n",
       "      <th>gender</th>\n",
       "      <th>job</th>\n",
       "      <th>zip</th>\n",
       "      <th>movie.title</th>\n",
       "      <th>release.date</th>\n",
       "      <th>...</th>\n",
       "      <th>Fantasy</th>\n",
       "      <th>Film-Noir</th>\n",
       "      <th>Horror</th>\n",
       "      <th>Musical</th>\n",
       "      <th>Mystery</th>\n",
       "      <th>Romance</th>\n",
       "      <th>Sci-Fi</th>\n",
       "      <th>Thriller</th>\n",
       "      <th>War</th>\n",
       "      <th>Western</th>\n",
       "    </tr>\n",
       "  </thead>\n",
       "  <tbody>\n",
       "    <tr>\n",
       "      <th>0</th>\n",
       "      <td>196</td>\n",
       "      <td>242</td>\n",
       "      <td>3</td>\n",
       "      <td>881250949</td>\n",
       "      <td>49</td>\n",
       "      <td>M</td>\n",
       "      <td>writer</td>\n",
       "      <td>55105</td>\n",
       "      <td>Kolya (1996)</td>\n",
       "      <td>24-Jan-1997</td>\n",
       "      <td>...</td>\n",
       "      <td>0</td>\n",
       "      <td>0</td>\n",
       "      <td>0</td>\n",
       "      <td>0</td>\n",
       "      <td>0</td>\n",
       "      <td>0</td>\n",
       "      <td>0</td>\n",
       "      <td>0</td>\n",
       "      <td>0</td>\n",
       "      <td>0</td>\n",
       "    </tr>\n",
       "    <tr>\n",
       "      <th>1</th>\n",
       "      <td>305</td>\n",
       "      <td>242</td>\n",
       "      <td>5</td>\n",
       "      <td>886307828</td>\n",
       "      <td>23</td>\n",
       "      <td>M</td>\n",
       "      <td>programmer</td>\n",
       "      <td>94086</td>\n",
       "      <td>Kolya (1996)</td>\n",
       "      <td>24-Jan-1997</td>\n",
       "      <td>...</td>\n",
       "      <td>0</td>\n",
       "      <td>0</td>\n",
       "      <td>0</td>\n",
       "      <td>0</td>\n",
       "      <td>0</td>\n",
       "      <td>0</td>\n",
       "      <td>0</td>\n",
       "      <td>0</td>\n",
       "      <td>0</td>\n",
       "      <td>0</td>\n",
       "    </tr>\n",
       "    <tr>\n",
       "      <th>2</th>\n",
       "      <td>6</td>\n",
       "      <td>242</td>\n",
       "      <td>4</td>\n",
       "      <td>883268170</td>\n",
       "      <td>42</td>\n",
       "      <td>M</td>\n",
       "      <td>executive</td>\n",
       "      <td>98101</td>\n",
       "      <td>Kolya (1996)</td>\n",
       "      <td>24-Jan-1997</td>\n",
       "      <td>...</td>\n",
       "      <td>0</td>\n",
       "      <td>0</td>\n",
       "      <td>0</td>\n",
       "      <td>0</td>\n",
       "      <td>0</td>\n",
       "      <td>0</td>\n",
       "      <td>0</td>\n",
       "      <td>0</td>\n",
       "      <td>0</td>\n",
       "      <td>0</td>\n",
       "    </tr>\n",
       "    <tr>\n",
       "      <th>3</th>\n",
       "      <td>234</td>\n",
       "      <td>242</td>\n",
       "      <td>4</td>\n",
       "      <td>891033261</td>\n",
       "      <td>60</td>\n",
       "      <td>M</td>\n",
       "      <td>retired</td>\n",
       "      <td>94702</td>\n",
       "      <td>Kolya (1996)</td>\n",
       "      <td>24-Jan-1997</td>\n",
       "      <td>...</td>\n",
       "      <td>0</td>\n",
       "      <td>0</td>\n",
       "      <td>0</td>\n",
       "      <td>0</td>\n",
       "      <td>0</td>\n",
       "      <td>0</td>\n",
       "      <td>0</td>\n",
       "      <td>0</td>\n",
       "      <td>0</td>\n",
       "      <td>0</td>\n",
       "    </tr>\n",
       "    <tr>\n",
       "      <th>4</th>\n",
       "      <td>63</td>\n",
       "      <td>242</td>\n",
       "      <td>3</td>\n",
       "      <td>875747190</td>\n",
       "      <td>31</td>\n",
       "      <td>M</td>\n",
       "      <td>marketing</td>\n",
       "      <td>75240</td>\n",
       "      <td>Kolya (1996)</td>\n",
       "      <td>24-Jan-1997</td>\n",
       "      <td>...</td>\n",
       "      <td>0</td>\n",
       "      <td>0</td>\n",
       "      <td>0</td>\n",
       "      <td>0</td>\n",
       "      <td>0</td>\n",
       "      <td>0</td>\n",
       "      <td>0</td>\n",
       "      <td>0</td>\n",
       "      <td>0</td>\n",
       "      <td>0</td>\n",
       "    </tr>\n",
       "  </tbody>\n",
       "</table>\n",
       "<p>5 rows × 31 columns</p>\n",
       "</div>"
      ],
      "text/plain": [
       "    id  movie.id  rating  timestamp  age gender         job    zip  \\\n",
       "0  196       242       3  881250949   49      M      writer  55105   \n",
       "1  305       242       5  886307828   23      M  programmer  94086   \n",
       "2    6       242       4  883268170   42      M   executive  98101   \n",
       "3  234       242       4  891033261   60      M     retired  94702   \n",
       "4   63       242       3  875747190   31      M   marketing  75240   \n",
       "\n",
       "    movie.title release.date   ...     Fantasy Film-Noir  Horror  Musical  \\\n",
       "0  Kolya (1996)  24-Jan-1997   ...           0         0       0        0   \n",
       "1  Kolya (1996)  24-Jan-1997   ...           0         0       0        0   \n",
       "2  Kolya (1996)  24-Jan-1997   ...           0         0       0        0   \n",
       "3  Kolya (1996)  24-Jan-1997   ...           0         0       0        0   \n",
       "4  Kolya (1996)  24-Jan-1997   ...           0         0       0        0   \n",
       "\n",
       "   Mystery  Romance  Sci-Fi  Thriller  War  Western  \n",
       "0        0        0       0         0    0        0  \n",
       "1        0        0       0         0    0        0  \n",
       "2        0        0       0         0    0        0  \n",
       "3        0        0       0         0    0        0  \n",
       "4        0        0       0         0    0        0  \n",
       "\n",
       "[5 rows x 31 columns]"
      ]
     },
     "execution_count": 20,
     "metadata": {},
     "output_type": "execute_result"
    }
   ],
   "source": [
    "df_user_items.head()"
   ]
  },
  {
   "cell_type": "code",
   "execution_count": 21,
   "metadata": {},
   "outputs": [
    {
     "data": {
      "text/plain": [
       "Index(['id', 'movie.id', 'rating', 'timestamp', 'age', 'gender', 'job', 'zip',\n",
       "       'movie.title', 'release.date', 'video release date', 'IMDb URL',\n",
       "       'unknown', 'Action', 'Adventure', 'Animation', 'Childrens', 'Comedy',\n",
       "       'Crime', 'Documentary', 'Drama', 'Fantasy', 'Film-Noir', 'Horror',\n",
       "       'Musical', 'Mystery', 'Romance', 'Sci-Fi', 'Thriller', 'War',\n",
       "       'Western'],\n",
       "      dtype='object')"
      ]
     },
     "execution_count": 21,
     "metadata": {},
     "output_type": "execute_result"
    }
   ],
   "source": [
    "df_user_items.columns"
   ]
  },
  {
   "cell_type": "code",
   "execution_count": 22,
   "metadata": {},
   "outputs": [
    {
     "data": {
      "text/plain": [
       "63"
      ]
     },
     "execution_count": 22,
     "metadata": {},
     "output_type": "execute_result"
    }
   ],
   "source": [
    "df_user_items['movie.title'].value_counts()['Star Trek V: The Final Frontier (1989)']"
   ]
  },
  {
   "cell_type": "code",
   "execution_count": 23,
   "metadata": {},
   "outputs": [],
   "source": [
    "df_movie_ratings = df_user_items[['movie.id', 'rating']]"
   ]
  },
  {
   "cell_type": "code",
   "execution_count": 24,
   "metadata": {},
   "outputs": [],
   "source": [
    "ratings_movie = df_movie_ratings.groupby('movie.id')\n"
   ]
  },
  {
   "cell_type": "code",
   "execution_count": 25,
   "metadata": {},
   "outputs": [],
   "source": [
    "r_matrix = df_user_items.pivot_table(values='rating', index='movie.id', columns='id')\n"
   ]
  },
  {
   "cell_type": "code",
   "execution_count": 26,
   "metadata": {},
   "outputs": [
    {
     "data": {
      "text/html": [
       "<div>\n",
       "<style scoped>\n",
       "    .dataframe tbody tr th:only-of-type {\n",
       "        vertical-align: middle;\n",
       "    }\n",
       "\n",
       "    .dataframe tbody tr th {\n",
       "        vertical-align: top;\n",
       "    }\n",
       "\n",
       "    .dataframe thead th {\n",
       "        text-align: right;\n",
       "    }\n",
       "</style>\n",
       "<table border=\"1\" class=\"dataframe\">\n",
       "  <thead>\n",
       "    <tr style=\"text-align: right;\">\n",
       "      <th>id</th>\n",
       "      <th>1</th>\n",
       "      <th>2</th>\n",
       "      <th>3</th>\n",
       "      <th>4</th>\n",
       "      <th>5</th>\n",
       "      <th>6</th>\n",
       "      <th>7</th>\n",
       "      <th>8</th>\n",
       "      <th>9</th>\n",
       "      <th>10</th>\n",
       "      <th>...</th>\n",
       "      <th>934</th>\n",
       "      <th>935</th>\n",
       "      <th>936</th>\n",
       "      <th>937</th>\n",
       "      <th>938</th>\n",
       "      <th>939</th>\n",
       "      <th>940</th>\n",
       "      <th>941</th>\n",
       "      <th>942</th>\n",
       "      <th>943</th>\n",
       "    </tr>\n",
       "    <tr>\n",
       "      <th>movie.id</th>\n",
       "      <th></th>\n",
       "      <th></th>\n",
       "      <th></th>\n",
       "      <th></th>\n",
       "      <th></th>\n",
       "      <th></th>\n",
       "      <th></th>\n",
       "      <th></th>\n",
       "      <th></th>\n",
       "      <th></th>\n",
       "      <th></th>\n",
       "      <th></th>\n",
       "      <th></th>\n",
       "      <th></th>\n",
       "      <th></th>\n",
       "      <th></th>\n",
       "      <th></th>\n",
       "      <th></th>\n",
       "      <th></th>\n",
       "      <th></th>\n",
       "      <th></th>\n",
       "    </tr>\n",
       "  </thead>\n",
       "  <tbody>\n",
       "    <tr>\n",
       "      <th>1</th>\n",
       "      <td>5.0</td>\n",
       "      <td>4.0</td>\n",
       "      <td>NaN</td>\n",
       "      <td>NaN</td>\n",
       "      <td>4.0</td>\n",
       "      <td>4.0</td>\n",
       "      <td>NaN</td>\n",
       "      <td>NaN</td>\n",
       "      <td>NaN</td>\n",
       "      <td>4.0</td>\n",
       "      <td>...</td>\n",
       "      <td>2.0</td>\n",
       "      <td>3.0</td>\n",
       "      <td>4.0</td>\n",
       "      <td>NaN</td>\n",
       "      <td>4.0</td>\n",
       "      <td>NaN</td>\n",
       "      <td>NaN</td>\n",
       "      <td>5.0</td>\n",
       "      <td>NaN</td>\n",
       "      <td>NaN</td>\n",
       "    </tr>\n",
       "    <tr>\n",
       "      <th>2</th>\n",
       "      <td>3.0</td>\n",
       "      <td>NaN</td>\n",
       "      <td>NaN</td>\n",
       "      <td>NaN</td>\n",
       "      <td>3.0</td>\n",
       "      <td>NaN</td>\n",
       "      <td>NaN</td>\n",
       "      <td>NaN</td>\n",
       "      <td>NaN</td>\n",
       "      <td>NaN</td>\n",
       "      <td>...</td>\n",
       "      <td>4.0</td>\n",
       "      <td>NaN</td>\n",
       "      <td>NaN</td>\n",
       "      <td>NaN</td>\n",
       "      <td>NaN</td>\n",
       "      <td>NaN</td>\n",
       "      <td>NaN</td>\n",
       "      <td>NaN</td>\n",
       "      <td>NaN</td>\n",
       "      <td>5.0</td>\n",
       "    </tr>\n",
       "    <tr>\n",
       "      <th>3</th>\n",
       "      <td>4.0</td>\n",
       "      <td>NaN</td>\n",
       "      <td>NaN</td>\n",
       "      <td>NaN</td>\n",
       "      <td>NaN</td>\n",
       "      <td>NaN</td>\n",
       "      <td>NaN</td>\n",
       "      <td>NaN</td>\n",
       "      <td>NaN</td>\n",
       "      <td>NaN</td>\n",
       "      <td>...</td>\n",
       "      <td>NaN</td>\n",
       "      <td>NaN</td>\n",
       "      <td>4.0</td>\n",
       "      <td>NaN</td>\n",
       "      <td>NaN</td>\n",
       "      <td>NaN</td>\n",
       "      <td>NaN</td>\n",
       "      <td>NaN</td>\n",
       "      <td>NaN</td>\n",
       "      <td>NaN</td>\n",
       "    </tr>\n",
       "    <tr>\n",
       "      <th>4</th>\n",
       "      <td>3.0</td>\n",
       "      <td>NaN</td>\n",
       "      <td>NaN</td>\n",
       "      <td>NaN</td>\n",
       "      <td>NaN</td>\n",
       "      <td>NaN</td>\n",
       "      <td>5.0</td>\n",
       "      <td>NaN</td>\n",
       "      <td>NaN</td>\n",
       "      <td>4.0</td>\n",
       "      <td>...</td>\n",
       "      <td>5.0</td>\n",
       "      <td>NaN</td>\n",
       "      <td>NaN</td>\n",
       "      <td>NaN</td>\n",
       "      <td>NaN</td>\n",
       "      <td>NaN</td>\n",
       "      <td>2.0</td>\n",
       "      <td>NaN</td>\n",
       "      <td>NaN</td>\n",
       "      <td>NaN</td>\n",
       "    </tr>\n",
       "    <tr>\n",
       "      <th>5</th>\n",
       "      <td>3.0</td>\n",
       "      <td>NaN</td>\n",
       "      <td>NaN</td>\n",
       "      <td>NaN</td>\n",
       "      <td>NaN</td>\n",
       "      <td>NaN</td>\n",
       "      <td>NaN</td>\n",
       "      <td>NaN</td>\n",
       "      <td>NaN</td>\n",
       "      <td>NaN</td>\n",
       "      <td>...</td>\n",
       "      <td>NaN</td>\n",
       "      <td>NaN</td>\n",
       "      <td>NaN</td>\n",
       "      <td>NaN</td>\n",
       "      <td>NaN</td>\n",
       "      <td>NaN</td>\n",
       "      <td>NaN</td>\n",
       "      <td>NaN</td>\n",
       "      <td>NaN</td>\n",
       "      <td>NaN</td>\n",
       "    </tr>\n",
       "  </tbody>\n",
       "</table>\n",
       "<p>5 rows × 943 columns</p>\n",
       "</div>"
      ],
      "text/plain": [
       "id        1    2    3    4    5    6    7    8    9    10  ...   934  935  \\\n",
       "movie.id                                                   ...              \n",
       "1         5.0  4.0  NaN  NaN  4.0  4.0  NaN  NaN  NaN  4.0 ...   2.0  3.0   \n",
       "2         3.0  NaN  NaN  NaN  3.0  NaN  NaN  NaN  NaN  NaN ...   4.0  NaN   \n",
       "3         4.0  NaN  NaN  NaN  NaN  NaN  NaN  NaN  NaN  NaN ...   NaN  NaN   \n",
       "4         3.0  NaN  NaN  NaN  NaN  NaN  5.0  NaN  NaN  4.0 ...   5.0  NaN   \n",
       "5         3.0  NaN  NaN  NaN  NaN  NaN  NaN  NaN  NaN  NaN ...   NaN  NaN   \n",
       "\n",
       "id        936  937  938  939  940  941  942  943  \n",
       "movie.id                                          \n",
       "1         4.0  NaN  4.0  NaN  NaN  5.0  NaN  NaN  \n",
       "2         NaN  NaN  NaN  NaN  NaN  NaN  NaN  5.0  \n",
       "3         4.0  NaN  NaN  NaN  NaN  NaN  NaN  NaN  \n",
       "4         NaN  NaN  NaN  NaN  2.0  NaN  NaN  NaN  \n",
       "5         NaN  NaN  NaN  NaN  NaN  NaN  NaN  NaN  \n",
       "\n",
       "[5 rows x 943 columns]"
      ]
     },
     "execution_count": 26,
     "metadata": {},
     "output_type": "execute_result"
    }
   ],
   "source": [
    "r_matrix.head()"
   ]
  },
  {
   "cell_type": "code",
   "execution_count": 27,
   "metadata": {},
   "outputs": [],
   "source": [
    "r_matrix_dummy = r_matrix.copy().fillna(0)"
   ]
  },
  {
   "cell_type": "code",
   "execution_count": 28,
   "metadata": {},
   "outputs": [],
   "source": [
    "from sklearn.metrics.pairwise import linear_kernel\n",
    "from sklearn.metrics.pairwise import cosine_similarity"
   ]
  },
  {
   "cell_type": "code",
   "execution_count": 29,
   "metadata": {},
   "outputs": [],
   "source": [
    "cosine_sim = cosine_similarity(r_matrix_dummy, r_matrix_dummy)"
   ]
  },
  {
   "cell_type": "code",
   "execution_count": 30,
   "metadata": {},
   "outputs": [],
   "source": [
    "cosine_sim = pd.DataFrame(cosine_sim, index=r_matrix.index, columns=r_matrix.index)\n"
   ]
  },
  {
   "cell_type": "code",
   "execution_count": 31,
   "metadata": {},
   "outputs": [],
   "source": [
    "movie_cosine = cosine_sim[450]"
   ]
  },
  {
   "cell_type": "code",
   "execution_count": 32,
   "metadata": {},
   "outputs": [],
   "source": [
    "movies_index = movie_cosine.sort_values(ascending=False).head(11).index"
   ]
  },
  {
   "cell_type": "code",
   "execution_count": 33,
   "metadata": {},
   "outputs": [],
   "source": [
    "df_item.columns = ['movie.id', 'movie.title', 'release.date', ' video release date ',\n",
    "       ' IMDb URL ', ' unknown ', ' Action ', ' Adventure ', ' Animation ',\n",
    "       ' Childrens ', ' Comedy ', ' Crime ', ' Documentary ', ' Drama ',\n",
    "       ' Fantasy ', ' Film-Noir ', ' Horror ', ' Musical ', ' Mystery ',\n",
    "       ' Romance ', ' Sci-Fi ', ' Thriller ', ' War ', ' Western']"
   ]
  },
  {
   "cell_type": "code",
   "execution_count": 34,
   "metadata": {},
   "outputs": [],
   "source": [
    "movies = df_item[['movie.id','movie.title']]"
   ]
  },
  {
   "cell_type": "code",
   "execution_count": 35,
   "metadata": {},
   "outputs": [],
   "source": [
    "ts = pd.Series(df_item['movie.title'].values, index=df_item['movie.id'])"
   ]
  },
  {
   "cell_type": "code",
   "execution_count": 36,
   "metadata": {},
   "outputs": [
    {
     "name": "stdout",
     "output_type": "stream",
     "text": [
      "Star Trek V: The Final Frontier (1989)\n",
      "Star Trek: The Motion Picture (1979)\n",
      "Star Trek VI: The Undiscovered Country (1991)\n",
      "Star Trek III: The Search for Spock (1984)\n",
      "Star Trek IV: The Voyage Home (1986)\n",
      "Star Trek: The Wrath of Khan (1982)\n",
      "Stargate (1994)\n",
      "Star Trek: Generations (1994)\n",
      "Die Hard 2 (1990)\n",
      "Escape from New York (1981)\n",
      "Conan the Barbarian (1981)\n"
     ]
    }
   ],
   "source": [
    "for index in movies_index:\n",
    "    print(ts[index])\n"
   ]
  },
  {
   "cell_type": "code",
   "execution_count": 37,
   "metadata": {},
   "outputs": [],
   "source": [
    "from scipy.stats import pearsonr"
   ]
  },
  {
   "cell_type": "code",
   "execution_count": 38,
   "metadata": {},
   "outputs": [
    {
     "data": {
      "text/html": [
       "<div>\n",
       "<style scoped>\n",
       "    .dataframe tbody tr th:only-of-type {\n",
       "        vertical-align: middle;\n",
       "    }\n",
       "\n",
       "    .dataframe tbody tr th {\n",
       "        vertical-align: top;\n",
       "    }\n",
       "\n",
       "    .dataframe thead th {\n",
       "        text-align: right;\n",
       "    }\n",
       "</style>\n",
       "<table border=\"1\" class=\"dataframe\">\n",
       "  <thead>\n",
       "    <tr style=\"text-align: right;\">\n",
       "      <th>id</th>\n",
       "      <th>1</th>\n",
       "      <th>2</th>\n",
       "      <th>3</th>\n",
       "      <th>4</th>\n",
       "      <th>5</th>\n",
       "      <th>6</th>\n",
       "      <th>7</th>\n",
       "      <th>8</th>\n",
       "      <th>9</th>\n",
       "      <th>10</th>\n",
       "      <th>...</th>\n",
       "      <th>934</th>\n",
       "      <th>935</th>\n",
       "      <th>936</th>\n",
       "      <th>937</th>\n",
       "      <th>938</th>\n",
       "      <th>939</th>\n",
       "      <th>940</th>\n",
       "      <th>941</th>\n",
       "      <th>942</th>\n",
       "      <th>943</th>\n",
       "    </tr>\n",
       "    <tr>\n",
       "      <th>movie.id</th>\n",
       "      <th></th>\n",
       "      <th></th>\n",
       "      <th></th>\n",
       "      <th></th>\n",
       "      <th></th>\n",
       "      <th></th>\n",
       "      <th></th>\n",
       "      <th></th>\n",
       "      <th></th>\n",
       "      <th></th>\n",
       "      <th></th>\n",
       "      <th></th>\n",
       "      <th></th>\n",
       "      <th></th>\n",
       "      <th></th>\n",
       "      <th></th>\n",
       "      <th></th>\n",
       "      <th></th>\n",
       "      <th></th>\n",
       "      <th></th>\n",
       "      <th></th>\n",
       "    </tr>\n",
       "  </thead>\n",
       "  <tbody>\n",
       "    <tr>\n",
       "      <th>1</th>\n",
       "      <td>5.0</td>\n",
       "      <td>4.0</td>\n",
       "      <td>0.0</td>\n",
       "      <td>0.0</td>\n",
       "      <td>4.0</td>\n",
       "      <td>4.0</td>\n",
       "      <td>0.0</td>\n",
       "      <td>0.0</td>\n",
       "      <td>0.0</td>\n",
       "      <td>4.0</td>\n",
       "      <td>...</td>\n",
       "      <td>2.0</td>\n",
       "      <td>3.0</td>\n",
       "      <td>4.0</td>\n",
       "      <td>0.0</td>\n",
       "      <td>4.0</td>\n",
       "      <td>0.0</td>\n",
       "      <td>0.0</td>\n",
       "      <td>5.0</td>\n",
       "      <td>0.0</td>\n",
       "      <td>0.0</td>\n",
       "    </tr>\n",
       "  </tbody>\n",
       "</table>\n",
       "<p>1 rows × 943 columns</p>\n",
       "</div>"
      ],
      "text/plain": [
       "id        1    2    3    4    5    6    7    8    9    10  ...   934  935  \\\n",
       "movie.id                                                   ...              \n",
       "1         5.0  4.0  0.0  0.0  4.0  4.0  0.0  0.0  0.0  4.0 ...   2.0  3.0   \n",
       "\n",
       "id        936  937  938  939  940  941  942  943  \n",
       "movie.id                                          \n",
       "1         4.0  0.0  4.0  0.0  0.0  5.0  0.0  0.0  \n",
       "\n",
       "[1 rows x 943 columns]"
      ]
     },
     "execution_count": 38,
     "metadata": {},
     "output_type": "execute_result"
    }
   ],
   "source": [
    "r_matrix_dummy.loc[[1]]"
   ]
  },
  {
   "cell_type": "code",
   "execution_count": 39,
   "metadata": {},
   "outputs": [
    {
     "data": {
      "text/plain": [
       "pandas.core.frame.DataFrame"
      ]
     },
     "execution_count": 39,
     "metadata": {},
     "output_type": "execute_result"
    }
   ],
   "source": [
    "type(r_matrix_dummy.loc[[1]])"
   ]
  },
  {
   "cell_type": "code",
   "execution_count": 40,
   "metadata": {},
   "outputs": [],
   "source": [
    "tst = r_matrix_dummy.loc[[1]]"
   ]
  },
  {
   "cell_type": "code",
   "execution_count": 41,
   "metadata": {},
   "outputs": [
    {
     "data": {
      "text/html": [
       "<div>\n",
       "<style scoped>\n",
       "    .dataframe tbody tr th:only-of-type {\n",
       "        vertical-align: middle;\n",
       "    }\n",
       "\n",
       "    .dataframe tbody tr th {\n",
       "        vertical-align: top;\n",
       "    }\n",
       "\n",
       "    .dataframe thead th {\n",
       "        text-align: right;\n",
       "    }\n",
       "</style>\n",
       "<table border=\"1\" class=\"dataframe\">\n",
       "  <thead>\n",
       "    <tr style=\"text-align: right;\">\n",
       "      <th>id</th>\n",
       "      <th>1</th>\n",
       "      <th>2</th>\n",
       "      <th>3</th>\n",
       "      <th>4</th>\n",
       "      <th>5</th>\n",
       "      <th>6</th>\n",
       "      <th>7</th>\n",
       "      <th>8</th>\n",
       "      <th>9</th>\n",
       "      <th>10</th>\n",
       "      <th>...</th>\n",
       "      <th>934</th>\n",
       "      <th>935</th>\n",
       "      <th>936</th>\n",
       "      <th>937</th>\n",
       "      <th>938</th>\n",
       "      <th>939</th>\n",
       "      <th>940</th>\n",
       "      <th>941</th>\n",
       "      <th>942</th>\n",
       "      <th>943</th>\n",
       "    </tr>\n",
       "    <tr>\n",
       "      <th>movie.id</th>\n",
       "      <th></th>\n",
       "      <th></th>\n",
       "      <th></th>\n",
       "      <th></th>\n",
       "      <th></th>\n",
       "      <th></th>\n",
       "      <th></th>\n",
       "      <th></th>\n",
       "      <th></th>\n",
       "      <th></th>\n",
       "      <th></th>\n",
       "      <th></th>\n",
       "      <th></th>\n",
       "      <th></th>\n",
       "      <th></th>\n",
       "      <th></th>\n",
       "      <th></th>\n",
       "      <th></th>\n",
       "      <th></th>\n",
       "      <th></th>\n",
       "      <th></th>\n",
       "    </tr>\n",
       "  </thead>\n",
       "  <tbody>\n",
       "    <tr>\n",
       "      <th>1</th>\n",
       "      <td>5.0</td>\n",
       "      <td>4.0</td>\n",
       "      <td>0.0</td>\n",
       "      <td>0.0</td>\n",
       "      <td>4.0</td>\n",
       "      <td>4.0</td>\n",
       "      <td>0.0</td>\n",
       "      <td>0.0</td>\n",
       "      <td>0.0</td>\n",
       "      <td>4.0</td>\n",
       "      <td>...</td>\n",
       "      <td>2.0</td>\n",
       "      <td>3.0</td>\n",
       "      <td>4.0</td>\n",
       "      <td>0.0</td>\n",
       "      <td>4.0</td>\n",
       "      <td>0.0</td>\n",
       "      <td>0.0</td>\n",
       "      <td>5.0</td>\n",
       "      <td>0.0</td>\n",
       "      <td>0.0</td>\n",
       "    </tr>\n",
       "  </tbody>\n",
       "</table>\n",
       "<p>1 rows × 943 columns</p>\n",
       "</div>"
      ],
      "text/plain": [
       "id        1    2    3    4    5    6    7    8    9    10  ...   934  935  \\\n",
       "movie.id                                                   ...              \n",
       "1         5.0  4.0  0.0  0.0  4.0  4.0  0.0  0.0  0.0  4.0 ...   2.0  3.0   \n",
       "\n",
       "id        936  937  938  939  940  941  942  943  \n",
       "movie.id                                          \n",
       "1         4.0  0.0  4.0  0.0  0.0  5.0  0.0  0.0  \n",
       "\n",
       "[1 rows x 943 columns]"
      ]
     },
     "execution_count": 41,
     "metadata": {},
     "output_type": "execute_result"
    }
   ],
   "source": [
    "tst"
   ]
  },
  {
   "cell_type": "code",
   "execution_count": 42,
   "metadata": {},
   "outputs": [],
   "source": [
    "tst2 = r_matrix_dummy.loc[[2]]"
   ]
  },
  {
   "cell_type": "code",
   "execution_count": 43,
   "metadata": {},
   "outputs": [
    {
     "data": {
      "text/plain": [
       "(0.2345945327074386, 2.9533856737571763e-13)"
      ]
     },
     "execution_count": 43,
     "metadata": {},
     "output_type": "execute_result"
    }
   ],
   "source": [
    "pearsonr(tst.values[0], tst2.values[0])"
   ]
  },
  {
   "cell_type": "code",
   "execution_count": 44,
   "metadata": {},
   "outputs": [
    {
     "data": {
      "text/plain": [
       "pandas.core.frame.DataFrame"
      ]
     },
     "execution_count": 44,
     "metadata": {},
     "output_type": "execute_result"
    }
   ],
   "source": [
    "type(r_matrix.iloc[[449]])\n"
   ]
  },
  {
   "cell_type": "code",
   "execution_count": 46,
   "metadata": {},
   "outputs": [],
   "source": [
    "import math\n",
    "votes = r_matrix.loc[450]\n",
    "no_votes = []\n",
    "for index, vote in votes.items():\n",
    "    if math.isnan(float(vote)):\n",
    "        no_votes.append(index) "
   ]
  },
  {
   "cell_type": "code",
   "execution_count": 47,
   "metadata": {},
   "outputs": [
    {
     "data": {
      "text/plain": [
       "880"
      ]
     },
     "execution_count": 47,
     "metadata": {},
     "output_type": "execute_result"
    }
   ],
   "source": [
    "len(no_votes)"
   ]
  },
  {
   "cell_type": "code",
   "execution_count": 48,
   "metadata": {},
   "outputs": [],
   "source": [
    "def euclidean(v1, v2):\n",
    "    v1 = np.array(v1)\n",
    "    v2 = np.array(v2)\n",
    "    \n",
    "    diff = np.power(np.array(v1) - np.array(v2), 2)\n",
    "    sigma_val = np.sum(diff)\n",
    "    euclid_score = np.sqrt(sigma_val)\n",
    "    return euclid_score\n",
    "    "
   ]
  },
  {
   "cell_type": "code",
   "execution_count": 65,
   "metadata": {},
   "outputs": [],
   "source": [
    "def euclidean2(v1, v2):\n",
    "    diff = np.power(np.array(v1) - np.array(v2), 2)\n",
    "    sigma_val = np.sum(diff)\n",
    "    euclid_score = np.sqrt(sigma_val)\n",
    "    return euclid_score"
   ]
  },
  {
   "cell_type": "code",
   "execution_count": 67,
   "metadata": {
    "scrolled": true
   },
   "outputs": [
    {
     "data": {
      "text/plain": [
       "65.25335240430181"
      ]
     },
     "execution_count": 67,
     "metadata": {},
     "output_type": "execute_result"
    }
   ],
   "source": [
    "r_user_votes = df_user_items.pivot_table(values='rating', index='id', columns='movie.id')\n",
    "r_user_votes_dummy = r_user_votes.copy().fillna(0)\n",
    "\n",
    "# Test euclidian\n",
    "euclidean2(r_user_votes_dummy.loc[no_votes[0]].values, r_user_votes_dummy.loc[no_votes[1]].values)"
   ]
  },
  {
   "cell_type": "code",
   "execution_count": 75,
   "metadata": {},
   "outputs": [],
   "source": [
    "no_votes_cp =list(no_votes)"
   ]
  },
  {
   "cell_type": "code",
   "execution_count": 95,
   "metadata": {},
   "outputs": [],
   "source": [
    "\n",
    "import operator\n",
    "def get_20_neighbors(user_id):\n",
    "    dd_euclids = {}\n",
    "    for peer in no_votes:\n",
    "        if peer != user_id:\n",
    "            dd_euclids[peer] = euclidean2(r_user_votes_dummy.loc[user_id].values, r_user_votes_dummy.loc[peer].values)\n",
    "    sorted_d = sorted(dd_euclids.items(), key=operator.itemgetter(1))\n",
    "    return sorted_d[:20]"
   ]
  },
  {
   "cell_type": "code",
   "execution_count": 99,
   "metadata": {
    "scrolled": true
   },
   "outputs": [],
   "source": [
    "dd_neighbors = {}\n",
    "for user_id in no_votes:\n",
    "    dd_neighbors[user_id] = get_20_neighbors(user_id)\n",
    "    "
   ]
  },
  {
   "cell_type": "code",
   "execution_count": 109,
   "metadata": {},
   "outputs": [],
   "source": [
    "ll = range(1,len(r_matrix.index))"
   ]
  },
  {
   "cell_type": "code",
   "execution_count": 112,
   "metadata": {},
   "outputs": [],
   "source": [
    "tmp_euclids = {}\n",
    "movie_id=450\n",
    "for peer in range(1,len(r_matrix.index)):\n",
    "    tmp_euclids[peer] = euclidean2(r_matrix_dummy.loc[movie_id].values, r_matrix_dummy.loc[peer].values)\n",
    "sorted_d = sorted(tmp_euclids.items(), key=operator.itemgetter(1))"
   ]
  },
  {
   "cell_type": "code",
   "execution_count": 116,
   "metadata": {},
   "outputs": [],
   "source": [
    "sorted_d[1:21]\n",
    "top_20_movie_nbors = [x[0] for x in sorted_d[1:21]]"
   ]
  },
  {
   "cell_type": "code",
   "execution_count": 181,
   "metadata": {},
   "outputs": [],
   "source": [
    " def get_mean_for_items(matrix,items):   \n",
    "    dd_nbors = {}\n",
    "    for x in items:\n",
    "        item_votes = matrix.loc[x].dropna()\n",
    "        tmpL = list(item_votes.values)\n",
    "        dd_nbors[x] = sum(tmpL)/(float(len(tmpL)))\n",
    "    return dd_nbors"
   ]
  },
  {
   "cell_type": "code",
   "execution_count": 230,
   "metadata": {},
   "outputs": [],
   "source": [
    "def get_top_20(ll):\n",
    "    tmp_euclids = {}\n",
    "    movie_id=450\n",
    "    for peer in ll:\n",
    "        tmp_euclids[peer] = euclidean2(r_matrix_dummy.loc[movie_id].values, r_matrix_dummy.loc[peer].values)\n",
    "    sorted_d = sorted(tmp_euclids.items(), key=operator.itemgetter(1))\n",
    "    return sorted_d[:20]\n",
    "\n",
    "def get_top_20(ll):\n",
    "    tmp_euclids = {}\n",
    "    movie_id=450\n",
    "    for peer in ll:\n",
    "        tmp_euclids[peer] = euclidean2(r_matrix_dummy.loc[movie_id].values, r_matrix_dummy.loc[peer].values)\n",
    "    sorted_d = sorted(tmp_euclids.items(), key=operator.itemgetter(1))\n",
    "    return sorted_d[:20]\n",
    "\n",
    "def get_rating_item_item_for_user(user_id):\n",
    "    m_ratings = r_user_votes.loc[user_id]\n",
    "    idx = m_ratings[m_ratings.isnull()].index\n",
    "    #movies and ratings for the user_ex\n",
    "    good_movies = m_ratings.dropna()\n",
    "    #get top 20 neighbors to 450 from movies user_ex has rated\n",
    "    top_20 = get_top_20(list(good_movies.index))\n",
    "    top_20 = [x[0] for x in top_20]\n",
    "\n",
    "    #for each item in the movie list, get mean rating \n",
    "    movie_mean_ratings = get_mean_for_items(r_matrix, top_20)\n",
    "    movie_mean_ratings_for_420 = get_mean_for_items(r_matrix,[420])\n",
    "    #for each item in the movie list, get cosine_weight\n",
    "    #get cosine for movie 420 and neighbors\n",
    "    cosine_weights = {}\n",
    "    for x in top_20:\n",
    "        cosine_weights[x] = cosine_sim.loc[420][x]\n",
    "\n",
    "    g_mov_ratings = {}\n",
    "    for x in top_20:\n",
    "        g_mov_ratings[x] = good_movies[x]\n",
    "\n",
    "    tmp_mr= sorted(g_mov_ratings.items(), key=operator.itemgetter(0))\n",
    "\n",
    "    tmp_cw=sorted(cosine_weights.items(), key=operator.itemgetter(0))\n",
    "\n",
    "    tmp_mmr = sorted(movie_mean_ratings.items(), key=operator.itemgetter(0))\n",
    "\n",
    "    # g_mov_ratings\n",
    "    tmp_mr1 = [x[1] for x in tmp_mr]\n",
    "\n",
    "    tmp_cw1 = [x[1] for x in tmp_cw]\n",
    "\n",
    "    # movie_mean_ratings\n",
    "    tmp_mmr1 = [x[1] for x in tmp_mmr]\n",
    "    subs = list(np.subtract(np.array(tmp_mr1), np.array(tmp_mmr1)))\n",
    "    mults = [a*b for a,b in zip(tmp_cw1,subs)]\n",
    "    sum_cw = (sum(mults))/(sum(tmp_cw1))\n",
    "    return (movie_mean_ratings_for_420[420] + sum_cw)"
   ]
  },
  {
   "cell_type": "code",
   "execution_count": 232,
   "metadata": {},
   "outputs": [],
   "source": [
    "# Question 3\n",
    "vote_for_no_votes = {}\n",
    "for x in no_votes:\n",
    "    vote_for_no_votes[x] = get_rating_item_item_for_user(x)"
   ]
  },
  {
   "cell_type": "code",
   "execution_count": 247,
   "metadata": {},
   "outputs": [],
   "source": [
    "# Question 4\n",
    "votes_exist = []\n",
    "for index, vote in votes.items():\n",
    "    if math.isnan(float(vote)) == False:\n",
    "        votes_exist.append(index) \n",
    "        \n",
    "predicted_votes = {}\n",
    "for x in votes_exist:\n",
    "    predicted_votes[x] = get_rating_item_item_for_user(x)"
   ]
  },
  {
   "cell_type": "code",
   "execution_count": 251,
   "metadata": {},
   "outputs": [],
   "source": [
    "real_votes = {}\n",
    "for x in votes_exist:\n",
    "    real_votes[x] = votes[x]"
   ]
  },
  {
   "cell_type": "code",
   "execution_count": 260,
   "metadata": {},
   "outputs": [],
   "source": [
    "real_votes_sorted = sorted(real_votes.items(), key=operator.itemgetter(0))\n",
    "pred_votes_sorted = sorted(predicted_votes.items(), key=operator.itemgetter(0))\n",
    "real_votes = [x[1] for x in real_votes_sorted]\n",
    "pred_votes = [x[1] for x in pred_votes_sorted]\n"
   ]
  },
  {
   "cell_type": "code",
   "execution_count": 261,
   "metadata": {},
   "outputs": [],
   "source": [
    "from sklearn.metrics import mean_squared_error"
   ]
  },
  {
   "cell_type": "code",
   "execution_count": 262,
   "metadata": {},
   "outputs": [
    {
     "data": {
      "text/plain": [
       "1.6519022703151693"
      ]
     },
     "execution_count": 262,
     "metadata": {},
     "output_type": "execute_result"
    }
   ],
   "source": [
    "np.sqrt(mean_squared_error(real_votes, pred_votes))"
   ]
  },
  {
   "cell_type": "code",
   "execution_count": 321,
   "metadata": {},
   "outputs": [],
   "source": [
    "# Question5\n",
    "star_trek_movies = df_user_items.loc[df_user_items['movie.title'].str.contains(\"Trek\")]['movie.id'].drop_duplicates().values\n",
    "\n",
    "star_war_movies = df_user_items.loc[df_user_items['movie.title'].str.contains(\"Wars\")]['movie.id'].drop_duplicates().values"
   ]
  },
  {
   "cell_type": "code",
   "execution_count": 322,
   "metadata": {},
   "outputs": [],
   "source": [
    "star_war_movies = list(star_war_movies)\n",
    "star_trek_movies = list(star_trek_movies)"
   ]
  },
  {
   "cell_type": "code",
   "execution_count": 352,
   "metadata": {},
   "outputs": [],
   "source": [
    "star_war_movies.append(172)\n",
    "star_war_movies.append(181)"
   ]
  },
  {
   "cell_type": "code",
   "execution_count": 361,
   "metadata": {},
   "outputs": [],
   "source": [
    "ll = [float(0) for x in range(1682)]\n",
    "s = pd.Series(ll, index=range(1,1683))\n",
    "for idx in star_war_movies:\n",
    "    s[idx] = float(1)\n",
    "for idx in star_trek_movies:\n",
    "    s[idx] = float(5)"
   ]
  },
  {
   "cell_type": "code",
   "execution_count": 366,
   "metadata": {},
   "outputs": [],
   "source": [
    "nbors = {}\n",
    "\n",
    "# We know user id goes from 1 to 943\n",
    "for i in range(1,944):\n",
    "    nbors[i] = euclidean2(s, r_user_votes_dummy.loc[i].values)\n",
    "nbors = sorted(nbors.items(), key=operator.itemgetter(1))\n",
    "nbors = nbors[:20]\n",
    "\n",
    "def get_rating_for_user(nbors, movie_id):\n",
    "    #for each item in the movie list, get mean rating \n",
    "    movie_mean_ratings = get_mean_for_items(r_matrix, top_20)\n",
    "    \n",
    "    movie_mean_ratings_for_420 = get_mean_for_items(r_matrix,[420])\n",
    "    #for each item in the movie list, get cosine_weight\n",
    "    #get cosine for movie 420 and neighbors\n",
    "    cosine_weights = {}\n",
    "    for x in nbors:\n",
    "        cosine_weights[x] = cosine_sim.loc[420][x]\n",
    "\n",
    "    g_mov_ratings = {}\n",
    "    for x in top_20:\n",
    "        g_mov_ratings[x] = good_movies[x]\n",
    "\n",
    "    tmp_mr= sorted(g_mov_ratings.items(), key=operator.itemgetter(0))\n",
    "\n",
    "    tmp_cw=sorted(cosine_weights.items(), key=operator.itemgetter(0))\n",
    "\n",
    "    tmp_mmr = sorted(movie_mean_ratings.items(), key=operator.itemgetter(0))\n",
    "\n",
    "    # g_mov_ratings\n",
    "    tmp_mr1 = [x[1] for x in tmp_mr]\n",
    "\n",
    "    tmp_cw1 = [x[1] for x in tmp_cw]\n",
    "\n",
    "    # movie_mean_ratings\n",
    "    tmp_mmr1 = [x[1] for x in tmp_mmr]\n",
    "    subs = list(np.subtract(np.array(tmp_mr1), np.array(tmp_mmr1)))\n",
    "    mults = [a*b for a,b in zip(tmp_cw1,subs)]\n",
    "    sum_cw = (sum(mults))/(sum(tmp_cw1))\n",
    "    return (movie_mean_ratings_for_420[420] + sum_cw)"
   ]
  }
 ],
 "metadata": {
  "kernelspec": {
   "display_name": "Python 3",
   "language": "python",
   "name": "python3"
  },
  "language_info": {
   "codemirror_mode": {
    "name": "ipython",
    "version": 3
   },
   "file_extension": ".py",
   "mimetype": "text/x-python",
   "name": "python",
   "nbconvert_exporter": "python",
   "pygments_lexer": "ipython3",
   "version": "3.5.2"
  }
 },
 "nbformat": 4,
 "nbformat_minor": 2
}
