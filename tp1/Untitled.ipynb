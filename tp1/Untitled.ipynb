{
 "cells": [
  {
   "cell_type": "code",
   "execution_count": 587,
   "metadata": {},
   "outputs": [],
   "source": [
    "# Etudiant: Rimte Rocher\n",
    "# Matricule: 1373038\n",
    "\n",
    "\n",
    "\n",
    "import numpy as np\n",
    "import matplotlib.pyplot as plt\n",
    "import pandas as pd\n",
    "%matplotlib inline\n",
    "\n",
    "# Cette partie du code sert a charger les fichiers csv en memoire grace a Pandas pour l'analyse\n",
    "df_data = pd.read_csv('./files/u.data',sep='|')\n",
    "df_user = pd.read_csv('./files/u.user.csv',sep='|')\n",
    "df_item = pd.read_csv('./files/u.item.csv',sep='|')"
   ]
  },
  {
   "cell_type": "code",
   "execution_count": 3,
   "metadata": {},
   "outputs": [
    {
     "data": {
      "text/html": [
       "<div>\n",
       "<style scoped>\n",
       "    .dataframe tbody tr th:only-of-type {\n",
       "        vertical-align: middle;\n",
       "    }\n",
       "\n",
       "    .dataframe tbody tr th {\n",
       "        vertical-align: top;\n",
       "    }\n",
       "\n",
       "    .dataframe thead th {\n",
       "        text-align: right;\n",
       "    }\n",
       "</style>\n",
       "<table border=\"1\" class=\"dataframe\">\n",
       "  <thead>\n",
       "    <tr style=\"text-align: right;\">\n",
       "      <th></th>\n",
       "      <th>user.id</th>\n",
       "      <th>item.id</th>\n",
       "      <th>rating</th>\n",
       "      <th>timestamp</th>\n",
       "    </tr>\n",
       "  </thead>\n",
       "  <tbody>\n",
       "    <tr>\n",
       "      <th>0</th>\n",
       "      <td>196</td>\n",
       "      <td>242</td>\n",
       "      <td>3</td>\n",
       "      <td>881250949</td>\n",
       "    </tr>\n",
       "    <tr>\n",
       "      <th>1</th>\n",
       "      <td>186</td>\n",
       "      <td>302</td>\n",
       "      <td>3</td>\n",
       "      <td>891717742</td>\n",
       "    </tr>\n",
       "    <tr>\n",
       "      <th>2</th>\n",
       "      <td>22</td>\n",
       "      <td>377</td>\n",
       "      <td>1</td>\n",
       "      <td>878887116</td>\n",
       "    </tr>\n",
       "    <tr>\n",
       "      <th>3</th>\n",
       "      <td>244</td>\n",
       "      <td>51</td>\n",
       "      <td>2</td>\n",
       "      <td>880606923</td>\n",
       "    </tr>\n",
       "    <tr>\n",
       "      <th>4</th>\n",
       "      <td>166</td>\n",
       "      <td>346</td>\n",
       "      <td>1</td>\n",
       "      <td>886397596</td>\n",
       "    </tr>\n",
       "  </tbody>\n",
       "</table>\n",
       "</div>"
      ],
      "text/plain": [
       "   user.id  item.id  rating  timestamp\n",
       "0      196      242       3  881250949\n",
       "1      186      302       3  891717742\n",
       "2       22      377       1  878887116\n",
       "3      244       51       2  880606923\n",
       "4      166      346       1  886397596"
      ]
     },
     "execution_count": 3,
     "metadata": {},
     "output_type": "execute_result"
    }
   ],
   "source": [
    "df_data.head()"
   ]
  },
  {
   "cell_type": "code",
   "execution_count": 4,
   "metadata": {},
   "outputs": [
    {
     "data": {
      "text/html": [
       "<div>\n",
       "<style scoped>\n",
       "    .dataframe tbody tr th:only-of-type {\n",
       "        vertical-align: middle;\n",
       "    }\n",
       "\n",
       "    .dataframe tbody tr th {\n",
       "        vertical-align: top;\n",
       "    }\n",
       "\n",
       "    .dataframe thead th {\n",
       "        text-align: right;\n",
       "    }\n",
       "</style>\n",
       "<table border=\"1\" class=\"dataframe\">\n",
       "  <thead>\n",
       "    <tr style=\"text-align: right;\">\n",
       "      <th></th>\n",
       "      <th>id</th>\n",
       "      <th>age</th>\n",
       "      <th>gender</th>\n",
       "      <th>job</th>\n",
       "      <th>zip</th>\n",
       "    </tr>\n",
       "  </thead>\n",
       "  <tbody>\n",
       "    <tr>\n",
       "      <th>0</th>\n",
       "      <td>1</td>\n",
       "      <td>24</td>\n",
       "      <td>M</td>\n",
       "      <td>technician</td>\n",
       "      <td>85711</td>\n",
       "    </tr>\n",
       "    <tr>\n",
       "      <th>1</th>\n",
       "      <td>2</td>\n",
       "      <td>53</td>\n",
       "      <td>F</td>\n",
       "      <td>other</td>\n",
       "      <td>94043</td>\n",
       "    </tr>\n",
       "    <tr>\n",
       "      <th>2</th>\n",
       "      <td>3</td>\n",
       "      <td>23</td>\n",
       "      <td>M</td>\n",
       "      <td>writer</td>\n",
       "      <td>32067</td>\n",
       "    </tr>\n",
       "    <tr>\n",
       "      <th>3</th>\n",
       "      <td>4</td>\n",
       "      <td>24</td>\n",
       "      <td>M</td>\n",
       "      <td>technician</td>\n",
       "      <td>43537</td>\n",
       "    </tr>\n",
       "    <tr>\n",
       "      <th>4</th>\n",
       "      <td>5</td>\n",
       "      <td>33</td>\n",
       "      <td>F</td>\n",
       "      <td>other</td>\n",
       "      <td>15213</td>\n",
       "    </tr>\n",
       "  </tbody>\n",
       "</table>\n",
       "</div>"
      ],
      "text/plain": [
       "   id    age   gender         job     zip\n",
       "0    1     24        M  technician  85711\n",
       "1    2     53        F       other  94043\n",
       "2    3     23        M      writer  32067\n",
       "3    4     24        M  technician  43537\n",
       "4    5     33        F       other  15213"
      ]
     },
     "execution_count": 4,
     "metadata": {},
     "output_type": "execute_result"
    }
   ],
   "source": [
    "df_user.head()"
   ]
  },
  {
   "cell_type": "code",
   "execution_count": 589,
   "metadata": {},
   "outputs": [],
   "source": [
    "# Nous renommons les colonnes\n",
    "df_data.columns=['id', 'item.id', 'rating', 'timestamp']\n",
    "df_user.columns = ['id', 'age', 'gender', 'job', 'zip']"
   ]
  },
  {
   "cell_type": "code",
   "execution_count": 10,
   "metadata": {},
   "outputs": [],
   "source": [
    "# Nous joignons les dtables contenant les items et les utilisateurs\n",
    "df_user_da = pd.merge(df_data, df_user, on='id')"
   ]
  },
  {
   "cell_type": "code",
   "execution_count": 592,
   "metadata": {},
   "outputs": [],
   "source": [
    "job_counts = df_user_da['job'].value_counts()"
   ]
  },
  {
   "cell_type": "code",
   "execution_count": 593,
   "metadata": {},
   "outputs": [],
   "source": [
    "jobs = job_counts.index"
   ]
  },
  {
   "cell_type": "code",
   "execution_count": 605,
   "metadata": {},
   "outputs": [],
   "source": [
    "# Creons un dictionnaire qui contiendra les differentes professions \n",
    "# comme cles et les listes de votes pour ces professions comme valeur\n",
    "dd = {}\n",
    "for job in jobs:\n",
    "    dd[job] = df_user_da.loc[df_user_da['job'] == job].rating\n"
   ]
  },
  {
   "cell_type": "code",
   "execution_count": null,
   "metadata": {},
   "outputs": [],
   "source": [
    "# Reponse Question 1\n",
    "# Quelle est la moyenne des votes par profession (\"job\") et par âge?"
   ]
  },
  {
   "cell_type": "code",
   "execution_count": 600,
   "metadata": {
    "scrolled": true
   },
   "outputs": [
    {
     "name": "stdout",
     "output_type": "stream",
     "text": [
      "programmer:  3.5682604794257147\n",
      "student:  3.5151432345038027\n",
      "librarian:  3.560781338896264\n",
      "artist:  3.653379549393414\n",
      "homemaker:  3.301003344481605\n",
      "engineer:  3.541406727828746\n",
      "scientist:  3.611273080660836\n",
      "retired:  3.4667495338719703\n",
      "healthcare:  2.896219686162625\n",
      "executive:  3.3491037320011756\n",
      "administrator:  3.6356464768017114\n",
      "other:  3.5523773797242804\n",
      "salesman:  3.582943925233645\n",
      "technician:  3.5322304620650313\n",
      "entertainment:  3.4410501193317424\n",
      "marketing:  3.4856410256410255\n",
      "lawyer:  3.7353159851301116\n",
      "educator:  3.6706206312221985\n",
      "none:  3.779134295227525\n",
      "writer:  3.3757225433526012\n",
      "doctor:  3.688888888888889\n"
     ]
    }
   ],
   "source": [
    "for k, v in dd.items():\n",
    "    mean = dd[k].mean()\n",
    "    print(str(k)+\":  \"+str(mean))"
   ]
  },
  {
   "cell_type": "code",
   "execution_count": null,
   "metadata": {},
   "outputs": [],
   "source": []
  },
  {
   "cell_type": "code",
   "execution_count": null,
   "metadata": {},
   "outputs": [],
   "source": [
    "#                         Question 2"
   ]
  },
  {
   "cell_type": "code",
   "execution_count": 18,
   "metadata": {},
   "outputs": [],
   "source": [
    "# Renommons les colonnes pour simplifier les selections\n",
    "df_user_da.columns = ['id', 'movie.id', 'rating', 'timestamp', 'age', 'gender', 'job', 'zip']\n",
    "df_item.columns= ['movie.id','movie.title','release.date','video release date',\n",
    "      'IMDb URL','unknown','Action','Adventure','Animation',\n",
    "      'Childrens','Comedy','Crime','Documentary','Drama',\n",
    "      'Fantasy','Film-Noir','Horror','Musical','Mystery',\n",
    "      'Romance','Sci-Fi','Thriller','War','Western']"
   ]
  },
  {
   "cell_type": "code",
   "execution_count": 19,
   "metadata": {},
   "outputs": [],
   "source": [
    "# Joignons les tables par id de film\n",
    "df_user_items = pd.merge(df_user_da, df_item, on='movie.id')"
   ]
  },
  {
   "cell_type": "code",
   "execution_count": 20,
   "metadata": {
    "scrolled": true
   },
   "outputs": [
    {
     "data": {
      "text/html": [
       "<div>\n",
       "<style scoped>\n",
       "    .dataframe tbody tr th:only-of-type {\n",
       "        vertical-align: middle;\n",
       "    }\n",
       "\n",
       "    .dataframe tbody tr th {\n",
       "        vertical-align: top;\n",
       "    }\n",
       "\n",
       "    .dataframe thead th {\n",
       "        text-align: right;\n",
       "    }\n",
       "</style>\n",
       "<table border=\"1\" class=\"dataframe\">\n",
       "  <thead>\n",
       "    <tr style=\"text-align: right;\">\n",
       "      <th></th>\n",
       "      <th>id</th>\n",
       "      <th>movie.id</th>\n",
       "      <th>rating</th>\n",
       "      <th>timestamp</th>\n",
       "      <th>age</th>\n",
       "      <th>gender</th>\n",
       "      <th>job</th>\n",
       "      <th>zip</th>\n",
       "      <th>movie.title</th>\n",
       "      <th>release.date</th>\n",
       "      <th>...</th>\n",
       "      <th>Fantasy</th>\n",
       "      <th>Film-Noir</th>\n",
       "      <th>Horror</th>\n",
       "      <th>Musical</th>\n",
       "      <th>Mystery</th>\n",
       "      <th>Romance</th>\n",
       "      <th>Sci-Fi</th>\n",
       "      <th>Thriller</th>\n",
       "      <th>War</th>\n",
       "      <th>Western</th>\n",
       "    </tr>\n",
       "  </thead>\n",
       "  <tbody>\n",
       "    <tr>\n",
       "      <th>0</th>\n",
       "      <td>196</td>\n",
       "      <td>242</td>\n",
       "      <td>3</td>\n",
       "      <td>881250949</td>\n",
       "      <td>49</td>\n",
       "      <td>M</td>\n",
       "      <td>writer</td>\n",
       "      <td>55105</td>\n",
       "      <td>Kolya (1996)</td>\n",
       "      <td>24-Jan-1997</td>\n",
       "      <td>...</td>\n",
       "      <td>0</td>\n",
       "      <td>0</td>\n",
       "      <td>0</td>\n",
       "      <td>0</td>\n",
       "      <td>0</td>\n",
       "      <td>0</td>\n",
       "      <td>0</td>\n",
       "      <td>0</td>\n",
       "      <td>0</td>\n",
       "      <td>0</td>\n",
       "    </tr>\n",
       "    <tr>\n",
       "      <th>1</th>\n",
       "      <td>305</td>\n",
       "      <td>242</td>\n",
       "      <td>5</td>\n",
       "      <td>886307828</td>\n",
       "      <td>23</td>\n",
       "      <td>M</td>\n",
       "      <td>programmer</td>\n",
       "      <td>94086</td>\n",
       "      <td>Kolya (1996)</td>\n",
       "      <td>24-Jan-1997</td>\n",
       "      <td>...</td>\n",
       "      <td>0</td>\n",
       "      <td>0</td>\n",
       "      <td>0</td>\n",
       "      <td>0</td>\n",
       "      <td>0</td>\n",
       "      <td>0</td>\n",
       "      <td>0</td>\n",
       "      <td>0</td>\n",
       "      <td>0</td>\n",
       "      <td>0</td>\n",
       "    </tr>\n",
       "    <tr>\n",
       "      <th>2</th>\n",
       "      <td>6</td>\n",
       "      <td>242</td>\n",
       "      <td>4</td>\n",
       "      <td>883268170</td>\n",
       "      <td>42</td>\n",
       "      <td>M</td>\n",
       "      <td>executive</td>\n",
       "      <td>98101</td>\n",
       "      <td>Kolya (1996)</td>\n",
       "      <td>24-Jan-1997</td>\n",
       "      <td>...</td>\n",
       "      <td>0</td>\n",
       "      <td>0</td>\n",
       "      <td>0</td>\n",
       "      <td>0</td>\n",
       "      <td>0</td>\n",
       "      <td>0</td>\n",
       "      <td>0</td>\n",
       "      <td>0</td>\n",
       "      <td>0</td>\n",
       "      <td>0</td>\n",
       "    </tr>\n",
       "    <tr>\n",
       "      <th>3</th>\n",
       "      <td>234</td>\n",
       "      <td>242</td>\n",
       "      <td>4</td>\n",
       "      <td>891033261</td>\n",
       "      <td>60</td>\n",
       "      <td>M</td>\n",
       "      <td>retired</td>\n",
       "      <td>94702</td>\n",
       "      <td>Kolya (1996)</td>\n",
       "      <td>24-Jan-1997</td>\n",
       "      <td>...</td>\n",
       "      <td>0</td>\n",
       "      <td>0</td>\n",
       "      <td>0</td>\n",
       "      <td>0</td>\n",
       "      <td>0</td>\n",
       "      <td>0</td>\n",
       "      <td>0</td>\n",
       "      <td>0</td>\n",
       "      <td>0</td>\n",
       "      <td>0</td>\n",
       "    </tr>\n",
       "    <tr>\n",
       "      <th>4</th>\n",
       "      <td>63</td>\n",
       "      <td>242</td>\n",
       "      <td>3</td>\n",
       "      <td>875747190</td>\n",
       "      <td>31</td>\n",
       "      <td>M</td>\n",
       "      <td>marketing</td>\n",
       "      <td>75240</td>\n",
       "      <td>Kolya (1996)</td>\n",
       "      <td>24-Jan-1997</td>\n",
       "      <td>...</td>\n",
       "      <td>0</td>\n",
       "      <td>0</td>\n",
       "      <td>0</td>\n",
       "      <td>0</td>\n",
       "      <td>0</td>\n",
       "      <td>0</td>\n",
       "      <td>0</td>\n",
       "      <td>0</td>\n",
       "      <td>0</td>\n",
       "      <td>0</td>\n",
       "    </tr>\n",
       "  </tbody>\n",
       "</table>\n",
       "<p>5 rows × 31 columns</p>\n",
       "</div>"
      ],
      "text/plain": [
       "    id  movie.id  rating  timestamp  age gender         job    zip  \\\n",
       "0  196       242       3  881250949   49      M      writer  55105   \n",
       "1  305       242       5  886307828   23      M  programmer  94086   \n",
       "2    6       242       4  883268170   42      M   executive  98101   \n",
       "3  234       242       4  891033261   60      M     retired  94702   \n",
       "4   63       242       3  875747190   31      M   marketing  75240   \n",
       "\n",
       "    movie.title release.date   ...     Fantasy Film-Noir  Horror  Musical  \\\n",
       "0  Kolya (1996)  24-Jan-1997   ...           0         0       0        0   \n",
       "1  Kolya (1996)  24-Jan-1997   ...           0         0       0        0   \n",
       "2  Kolya (1996)  24-Jan-1997   ...           0         0       0        0   \n",
       "3  Kolya (1996)  24-Jan-1997   ...           0         0       0        0   \n",
       "4  Kolya (1996)  24-Jan-1997   ...           0         0       0        0   \n",
       "\n",
       "   Mystery  Romance  Sci-Fi  Thriller  War  Western  \n",
       "0        0        0       0         0    0        0  \n",
       "1        0        0       0         0    0        0  \n",
       "2        0        0       0         0    0        0  \n",
       "3        0        0       0         0    0        0  \n",
       "4        0        0       0         0    0        0  \n",
       "\n",
       "[5 rows x 31 columns]"
      ]
     },
     "execution_count": 20,
     "metadata": {},
     "output_type": "execute_result"
    }
   ],
   "source": [
    "# Analysons\n",
    "df_user_items.head()"
   ]
  },
  {
   "cell_type": "code",
   "execution_count": 606,
   "metadata": {},
   "outputs": [],
   "source": [
    "# Creons une matrix avec les id d'utilisateurs en ligne et les id de films en colonnes\n",
    "r_matrix = df_user_items.pivot_table(values='rating', index='movie.id', columns='id')\n"
   ]
  },
  {
   "cell_type": "code",
   "execution_count": 26,
   "metadata": {
    "scrolled": true
   },
   "outputs": [
    {
     "data": {
      "text/html": [
       "<div>\n",
       "<style scoped>\n",
       "    .dataframe tbody tr th:only-of-type {\n",
       "        vertical-align: middle;\n",
       "    }\n",
       "\n",
       "    .dataframe tbody tr th {\n",
       "        vertical-align: top;\n",
       "    }\n",
       "\n",
       "    .dataframe thead th {\n",
       "        text-align: right;\n",
       "    }\n",
       "</style>\n",
       "<table border=\"1\" class=\"dataframe\">\n",
       "  <thead>\n",
       "    <tr style=\"text-align: right;\">\n",
       "      <th>id</th>\n",
       "      <th>1</th>\n",
       "      <th>2</th>\n",
       "      <th>3</th>\n",
       "      <th>4</th>\n",
       "      <th>5</th>\n",
       "      <th>6</th>\n",
       "      <th>7</th>\n",
       "      <th>8</th>\n",
       "      <th>9</th>\n",
       "      <th>10</th>\n",
       "      <th>...</th>\n",
       "      <th>934</th>\n",
       "      <th>935</th>\n",
       "      <th>936</th>\n",
       "      <th>937</th>\n",
       "      <th>938</th>\n",
       "      <th>939</th>\n",
       "      <th>940</th>\n",
       "      <th>941</th>\n",
       "      <th>942</th>\n",
       "      <th>943</th>\n",
       "    </tr>\n",
       "    <tr>\n",
       "      <th>movie.id</th>\n",
       "      <th></th>\n",
       "      <th></th>\n",
       "      <th></th>\n",
       "      <th></th>\n",
       "      <th></th>\n",
       "      <th></th>\n",
       "      <th></th>\n",
       "      <th></th>\n",
       "      <th></th>\n",
       "      <th></th>\n",
       "      <th></th>\n",
       "      <th></th>\n",
       "      <th></th>\n",
       "      <th></th>\n",
       "      <th></th>\n",
       "      <th></th>\n",
       "      <th></th>\n",
       "      <th></th>\n",
       "      <th></th>\n",
       "      <th></th>\n",
       "      <th></th>\n",
       "    </tr>\n",
       "  </thead>\n",
       "  <tbody>\n",
       "    <tr>\n",
       "      <th>1</th>\n",
       "      <td>5.0</td>\n",
       "      <td>4.0</td>\n",
       "      <td>NaN</td>\n",
       "      <td>NaN</td>\n",
       "      <td>4.0</td>\n",
       "      <td>4.0</td>\n",
       "      <td>NaN</td>\n",
       "      <td>NaN</td>\n",
       "      <td>NaN</td>\n",
       "      <td>4.0</td>\n",
       "      <td>...</td>\n",
       "      <td>2.0</td>\n",
       "      <td>3.0</td>\n",
       "      <td>4.0</td>\n",
       "      <td>NaN</td>\n",
       "      <td>4.0</td>\n",
       "      <td>NaN</td>\n",
       "      <td>NaN</td>\n",
       "      <td>5.0</td>\n",
       "      <td>NaN</td>\n",
       "      <td>NaN</td>\n",
       "    </tr>\n",
       "    <tr>\n",
       "      <th>2</th>\n",
       "      <td>3.0</td>\n",
       "      <td>NaN</td>\n",
       "      <td>NaN</td>\n",
       "      <td>NaN</td>\n",
       "      <td>3.0</td>\n",
       "      <td>NaN</td>\n",
       "      <td>NaN</td>\n",
       "      <td>NaN</td>\n",
       "      <td>NaN</td>\n",
       "      <td>NaN</td>\n",
       "      <td>...</td>\n",
       "      <td>4.0</td>\n",
       "      <td>NaN</td>\n",
       "      <td>NaN</td>\n",
       "      <td>NaN</td>\n",
       "      <td>NaN</td>\n",
       "      <td>NaN</td>\n",
       "      <td>NaN</td>\n",
       "      <td>NaN</td>\n",
       "      <td>NaN</td>\n",
       "      <td>5.0</td>\n",
       "    </tr>\n",
       "    <tr>\n",
       "      <th>3</th>\n",
       "      <td>4.0</td>\n",
       "      <td>NaN</td>\n",
       "      <td>NaN</td>\n",
       "      <td>NaN</td>\n",
       "      <td>NaN</td>\n",
       "      <td>NaN</td>\n",
       "      <td>NaN</td>\n",
       "      <td>NaN</td>\n",
       "      <td>NaN</td>\n",
       "      <td>NaN</td>\n",
       "      <td>...</td>\n",
       "      <td>NaN</td>\n",
       "      <td>NaN</td>\n",
       "      <td>4.0</td>\n",
       "      <td>NaN</td>\n",
       "      <td>NaN</td>\n",
       "      <td>NaN</td>\n",
       "      <td>NaN</td>\n",
       "      <td>NaN</td>\n",
       "      <td>NaN</td>\n",
       "      <td>NaN</td>\n",
       "    </tr>\n",
       "    <tr>\n",
       "      <th>4</th>\n",
       "      <td>3.0</td>\n",
       "      <td>NaN</td>\n",
       "      <td>NaN</td>\n",
       "      <td>NaN</td>\n",
       "      <td>NaN</td>\n",
       "      <td>NaN</td>\n",
       "      <td>5.0</td>\n",
       "      <td>NaN</td>\n",
       "      <td>NaN</td>\n",
       "      <td>4.0</td>\n",
       "      <td>...</td>\n",
       "      <td>5.0</td>\n",
       "      <td>NaN</td>\n",
       "      <td>NaN</td>\n",
       "      <td>NaN</td>\n",
       "      <td>NaN</td>\n",
       "      <td>NaN</td>\n",
       "      <td>2.0</td>\n",
       "      <td>NaN</td>\n",
       "      <td>NaN</td>\n",
       "      <td>NaN</td>\n",
       "    </tr>\n",
       "    <tr>\n",
       "      <th>5</th>\n",
       "      <td>3.0</td>\n",
       "      <td>NaN</td>\n",
       "      <td>NaN</td>\n",
       "      <td>NaN</td>\n",
       "      <td>NaN</td>\n",
       "      <td>NaN</td>\n",
       "      <td>NaN</td>\n",
       "      <td>NaN</td>\n",
       "      <td>NaN</td>\n",
       "      <td>NaN</td>\n",
       "      <td>...</td>\n",
       "      <td>NaN</td>\n",
       "      <td>NaN</td>\n",
       "      <td>NaN</td>\n",
       "      <td>NaN</td>\n",
       "      <td>NaN</td>\n",
       "      <td>NaN</td>\n",
       "      <td>NaN</td>\n",
       "      <td>NaN</td>\n",
       "      <td>NaN</td>\n",
       "      <td>NaN</td>\n",
       "    </tr>\n",
       "  </tbody>\n",
       "</table>\n",
       "<p>5 rows × 943 columns</p>\n",
       "</div>"
      ],
      "text/plain": [
       "id        1    2    3    4    5    6    7    8    9    10  ...   934  935  \\\n",
       "movie.id                                                   ...              \n",
       "1         5.0  4.0  NaN  NaN  4.0  4.0  NaN  NaN  NaN  4.0 ...   2.0  3.0   \n",
       "2         3.0  NaN  NaN  NaN  3.0  NaN  NaN  NaN  NaN  NaN ...   4.0  NaN   \n",
       "3         4.0  NaN  NaN  NaN  NaN  NaN  NaN  NaN  NaN  NaN ...   NaN  NaN   \n",
       "4         3.0  NaN  NaN  NaN  NaN  NaN  5.0  NaN  NaN  4.0 ...   5.0  NaN   \n",
       "5         3.0  NaN  NaN  NaN  NaN  NaN  NaN  NaN  NaN  NaN ...   NaN  NaN   \n",
       "\n",
       "id        936  937  938  939  940  941  942  943  \n",
       "movie.id                                          \n",
       "1         4.0  NaN  4.0  NaN  NaN  5.0  NaN  NaN  \n",
       "2         NaN  NaN  NaN  NaN  NaN  NaN  NaN  5.0  \n",
       "3         4.0  NaN  NaN  NaN  NaN  NaN  NaN  NaN  \n",
       "4         NaN  NaN  NaN  NaN  2.0  NaN  NaN  NaN  \n",
       "5         NaN  NaN  NaN  NaN  NaN  NaN  NaN  NaN  \n",
       "\n",
       "[5 rows x 943 columns]"
      ]
     },
     "execution_count": 26,
     "metadata": {},
     "output_type": "execute_result"
    }
   ],
   "source": [
    "r_matrix.head()"
   ]
  },
  {
   "cell_type": "code",
   "execution_count": null,
   "metadata": {},
   "outputs": [],
   "source": [
    "# cosinus de similarite"
   ]
  },
  {
   "cell_type": "code",
   "execution_count": 619,
   "metadata": {},
   "outputs": [],
   "source": [
    "# Remplions les cases vides avec des valeurs nulles pour permettre le calcule du cosinus de similarite\n",
    "r_matrix_dummy = r_matrix.copy().fillna(0)"
   ]
  },
  {
   "cell_type": "code",
   "execution_count": 620,
   "metadata": {},
   "outputs": [],
   "source": [
    "from sklearn.metrics.pairwise import linear_kernel\n",
    "from sklearn.metrics.pairwise import cosine_similarity"
   ]
  },
  {
   "cell_type": "code",
   "execution_count": 621,
   "metadata": {},
   "outputs": [],
   "source": [
    "cosine_sim = cosine_similarity(r_matrix_dummy, r_matrix_dummy)"
   ]
  },
  {
   "cell_type": "code",
   "execution_count": 622,
   "metadata": {},
   "outputs": [],
   "source": [
    "cosine_sim = pd.DataFrame(cosine_sim, index=r_matrix.index, columns=r_matrix.index)\n"
   ]
  },
  {
   "cell_type": "code",
   "execution_count": 624,
   "metadata": {},
   "outputs": [],
   "source": [
    "movie_cosine = cosine_sim[450]"
   ]
  },
  {
   "cell_type": "code",
   "execution_count": 626,
   "metadata": {},
   "outputs": [],
   "source": [
    "movies_index = movie_cosine.sort_values(ascending=False).head(11).index"
   ]
  },
  {
   "cell_type": "code",
   "execution_count": 33,
   "metadata": {},
   "outputs": [],
   "source": [
    "df_item.columns = ['movie.id', 'movie.title', 'release.date', ' video release date ',\n",
    "       ' IMDb URL ', ' unknown ', ' Action ', ' Adventure ', ' Animation ',\n",
    "       ' Childrens ', ' Comedy ', ' Crime ', ' Documentary ', ' Drama ',\n",
    "       ' Fantasy ', ' Film-Noir ', ' Horror ', ' Musical ', ' Mystery ',\n",
    "       ' Romance ', ' Sci-Fi ', ' Thriller ', ' War ', ' Western']"
   ]
  },
  {
   "cell_type": "code",
   "execution_count": 35,
   "metadata": {},
   "outputs": [],
   "source": [
    "ts = pd.Series(df_item['movie.title'].values, index=df_item['movie.id'])"
   ]
  },
  {
   "cell_type": "code",
   "execution_count": 36,
   "metadata": {
    "scrolled": true
   },
   "outputs": [
    {
     "name": "stdout",
     "output_type": "stream",
     "text": [
      "Star Trek V: The Final Frontier (1989)\n",
      "Star Trek: The Motion Picture (1979)\n",
      "Star Trek VI: The Undiscovered Country (1991)\n",
      "Star Trek III: The Search for Spock (1984)\n",
      "Star Trek IV: The Voyage Home (1986)\n",
      "Star Trek: The Wrath of Khan (1982)\n",
      "Stargate (1994)\n",
      "Star Trek: Generations (1994)\n",
      "Die Hard 2 (1990)\n",
      "Escape from New York (1981)\n",
      "Conan the Barbarian (1981)\n"
     ]
    }
   ],
   "source": [
    "for index in movies_index:\n",
    "    print(ts[index])\n"
   ]
  },
  {
   "cell_type": "code",
   "execution_count": null,
   "metadata": {},
   "outputs": [],
   "source": [
    "# corrélation de pearson avec la matrice de votes"
   ]
  },
  {
   "cell_type": "code",
   "execution_count": 37,
   "metadata": {},
   "outputs": [],
   "source": [
    "# corrélation de pearson avec la matrice de votes\n",
    "from scipy.stats import pearsonr"
   ]
  },
  {
   "cell_type": "code",
   "execution_count": 661,
   "metadata": {},
   "outputs": [],
   "source": [
    "dd_pearson = {}\n",
    "for i in range (1,1683):\n",
    "    if i != 450:\n",
    "        dd_pearson[i] = pearsonr(r_matrix_dummy.loc[450].values, r_matrix_dummy.loc[i].values)[0]"
   ]
  },
  {
   "cell_type": "code",
   "execution_count": 662,
   "metadata": {},
   "outputs": [],
   "source": [
    "dd_pearson = sorted(dd_pearson.items(), key=operator.itemgetter(1))"
   ]
  },
  {
   "cell_type": "code",
   "execution_count": 666,
   "metadata": {
    "scrolled": false
   },
   "outputs": [
    {
     "name": "stdout",
     "output_type": "stream",
     "text": [
      "Boogie Nights (1997)\n",
      "English Patient, The (1996)\n",
      "Good Will Hunting (1997)\n",
      "Seven Years in Tibet (1997)\n",
      "Apostle, The (1997)\n",
      "Full Monty, The (1997)\n",
      "Mrs. Brown (Her Majesty, Mrs. Brown) (1997)\n",
      "Ulee's Gold (1997)\n",
      "In & Out (1997)\n",
      "Wings of the Dove, The (1997)\n"
     ]
    }
   ],
   "source": [
    "for index in dd_pearson[:10]:\n",
    "    print(ts[index[0]])"
   ]
  },
  {
   "cell_type": "code",
   "execution_count": null,
   "metadata": {},
   "outputs": [],
   "source": [
    "# Les resultats selon la methode de Pearson tels que vus ci-haut ne sont pas convaincants"
   ]
  },
  {
   "cell_type": "code",
   "execution_count": null,
   "metadata": {},
   "outputs": [],
   "source": []
  },
  {
   "cell_type": "code",
   "execution_count": null,
   "metadata": {},
   "outputs": [],
   "source": [
    "#                                             Question 3"
   ]
  },
  {
   "cell_type": "code",
   "execution_count": 667,
   "metadata": {},
   "outputs": [],
   "source": [
    "# D'abord, recuperons les utilisateurs qui n'ont pas de vote pour le film star trek\n",
    "START_TREK_ID = 450\n",
    "import math\n",
    "votes = r_matrix.loc[START_TREK_ID]\n",
    "no_votes = []\n",
    "for index, vote in votes.items():\n",
    "    if math.isnan(float(vote)):\n",
    "        no_votes.append(index) "
   ]
  },
  {
   "cell_type": "code",
   "execution_count": 47,
   "metadata": {},
   "outputs": [
    {
     "data": {
      "text/plain": [
       "880"
      ]
     },
     "execution_count": 47,
     "metadata": {},
     "output_type": "execute_result"
    }
   ],
   "source": [
    "len(no_votes)"
   ]
  },
  {
   "cell_type": "code",
   "execution_count": 48,
   "metadata": {},
   "outputs": [],
   "source": [
    "def euclidean(v1, v2):\n",
    "    v1 = np.array(v1)\n",
    "    v2 = np.array(v2)\n",
    "    \n",
    "    diff = np.power(np.array(v1) - np.array(v2), 2)\n",
    "    sigma_val = np.sum(diff)\n",
    "    euclid_score = np.sqrt(sigma_val)\n",
    "    return euclid_score\n",
    "    "
   ]
  },
  {
   "cell_type": "code",
   "execution_count": 65,
   "metadata": {},
   "outputs": [],
   "source": [
    "def euclidean2(v1, v2):\n",
    "    diff = np.power(np.array(v1) - np.array(v2), 2)\n",
    "    sigma_val = np.sum(diff)\n",
    "    euclid_score = np.sqrt(sigma_val)\n",
    "    return euclid_score"
   ]
  },
  {
   "cell_type": "code",
   "execution_count": 67,
   "metadata": {
    "scrolled": true
   },
   "outputs": [
    {
     "data": {
      "text/plain": [
       "65.25335240430181"
      ]
     },
     "execution_count": 67,
     "metadata": {},
     "output_type": "execute_result"
    }
   ],
   "source": [
    "r_user_votes = df_user_items.pivot_table(values='rating', index='id', columns='movie.id')\n",
    "r_user_votes_dummy = r_user_votes.copy().fillna(0)\n",
    "\n",
    "# Test euclidian\n",
    "euclidean2(r_user_votes_dummy.loc[no_votes[0]].values, r_user_votes_dummy.loc[no_votes[1]].values)"
   ]
  },
  {
   "cell_type": "code",
   "execution_count": 75,
   "metadata": {},
   "outputs": [],
   "source": [
    "no_votes_cp =list(no_votes)"
   ]
  },
  {
   "cell_type": "code",
   "execution_count": 95,
   "metadata": {},
   "outputs": [],
   "source": [
    "\n",
    "import operator\n",
    "def get_20_neighbors(user_id):\n",
    "    dd_euclids = {}\n",
    "    for peer in no_votes:\n",
    "        if peer != user_id:\n",
    "            dd_euclids[peer] = euclidean2(r_user_votes_dummy.loc[user_id].values, r_user_votes_dummy.loc[peer].values)\n",
    "    sorted_d = sorted(dd_euclids.items(), key=operator.itemgetter(1))\n",
    "    return sorted_d[:20]"
   ]
  },
  {
   "cell_type": "code",
   "execution_count": 99,
   "metadata": {
    "scrolled": true
   },
   "outputs": [],
   "source": [
    "dd_neighbors = {}\n",
    "for user_id in no_votes:\n",
    "    dd_neighbors[user_id] = get_20_neighbors(user_id)\n",
    "    "
   ]
  },
  {
   "cell_type": "code",
   "execution_count": 109,
   "metadata": {},
   "outputs": [],
   "source": [
    "ll = range(1,len(r_matrix.index))"
   ]
  },
  {
   "cell_type": "code",
   "execution_count": 112,
   "metadata": {},
   "outputs": [],
   "source": [
    "tmp_euclids = {}\n",
    "movie_id=450\n",
    "for peer in range(1,len(r_matrix.index)):\n",
    "    tmp_euclids[peer] = euclidean2(r_matrix_dummy.loc[movie_id].values, r_matrix_dummy.loc[peer].values)\n",
    "sorted_d = sorted(tmp_euclids.items(), key=operator.itemgetter(1))"
   ]
  },
  {
   "cell_type": "code",
   "execution_count": 116,
   "metadata": {},
   "outputs": [],
   "source": [
    "sorted_d[1:21]\n",
    "top_20_movie_nbors = [x[0] for x in sorted_d[1:21]]"
   ]
  },
  {
   "cell_type": "code",
   "execution_count": 181,
   "metadata": {},
   "outputs": [],
   "source": [
    " def get_mean_for_items(matrix,items):   \n",
    "    dd_nbors = {}\n",
    "    for x in items:\n",
    "        item_votes = matrix.loc[x].dropna()\n",
    "        tmpL = list(item_votes.values)\n",
    "        dd_nbors[x] = sum(tmpL)/(float(len(tmpL)))\n",
    "    return dd_nbors"
   ]
  },
  {
   "cell_type": "code",
   "execution_count": 675,
   "metadata": {},
   "outputs": [],
   "source": [
    "def get_top_20(ll):\n",
    "    tmp_euclids = {}\n",
    "    movie_id=450\n",
    "    for peer in ll:\n",
    "        tmp_euclids[peer] = euclidean2(r_matrix_dummy.loc[movie_id].values, r_matrix_dummy.loc[peer].values)\n",
    "    sorted_d = sorted(tmp_euclids.items(), key=operator.itemgetter(1))\n",
    "    return sorted_d[:20]\n",
    "\n",
    "# Fonction utilisee pour calculer le vote des utilisateurs qui n'ont pas de vote pour un film selon l'approche item-item\n",
    "def get_rating_item_item_for_user(user_id, r_user_votes, r_matrix):\n",
    "    m_ratings = r_user_votes.loc[user_id]\n",
    "    idx = m_ratings[m_ratings.isnull()].index\n",
    "    #movies and ratings for the user_ex\n",
    "    good_movies = m_ratings.dropna()\n",
    "    #get top 20 neighbors to 450 from movies user_ex has rated\n",
    "    top_20 = get_top_20(list(good_movies.index))\n",
    "    top_20 = [x[0] for x in top_20]\n",
    "\n",
    "    #for each item in the movie list, get mean rating \n",
    "    movie_mean_ratings = get_mean_for_items(r_matrix, top_20)\n",
    "    movie_mean_ratings_for_420 = get_mean_for_items(r_matrix,[420])\n",
    "    #for each item in the movie list, get cosine_weight\n",
    "    #get cosine for movie 420 and neighbors\n",
    "    cosine_weights = {}\n",
    "    for x in top_20:\n",
    "        cosine_weights[x] = cosine_sim.loc[420][x]\n",
    "\n",
    "    g_mov_ratings = {}\n",
    "    for x in top_20:\n",
    "        g_mov_ratings[x] = good_movies[x]\n",
    "\n",
    "    tmp_mr= sorted(g_mov_ratings.items(), key=operator.itemgetter(0))\n",
    "\n",
    "    tmp_cw=sorted(cosine_weights.items(), key=operator.itemgetter(0))\n",
    "\n",
    "    tmp_mmr = sorted(movie_mean_ratings.items(), key=operator.itemgetter(0))\n",
    "\n",
    "    # g_mov_ratings\n",
    "    tmp_mr1 = [x[1] for x in tmp_mr]\n",
    "\n",
    "    tmp_cw1 = [x[1] for x in tmp_cw]\n",
    "\n",
    "    # movie_mean_ratings\n",
    "    tmp_mmr1 = [x[1] for x in tmp_mmr]\n",
    "    subs = list(np.subtract(np.array(tmp_mr1), np.array(tmp_mmr1)))\n",
    "    mults = [a*b for a,b in zip(tmp_cw1,subs)]\n",
    "    sum_cw = (sum(mults))/(sum(tmp_cw1))\n",
    "    return (movie_mean_ratings_for_420[420] + sum_cw)"
   ]
  },
  {
   "cell_type": "code",
   "execution_count": 582,
   "metadata": {},
   "outputs": [],
   "source": [
    "# Reponse Question 3\n",
    "vote_for_no_votes = {}\n",
    "for x in no_votes:\n",
    "    vote_for_no_votes[x] = get_rating_item_item_for_user(x, r_user_votes, r_matrix)"
   ]
  },
  {
   "cell_type": "code",
   "execution_count": 586,
   "metadata": {
    "scrolled": true
   },
   "outputs": [
    {
     "name": "stdout",
     "output_type": "stream",
     "text": [
      "User:896=> Vote:3.2129950545295363\n",
      "User:130=> Vote:4.395835833748503\n",
      "User:5=> Vote:3.5739432014309958\n",
      "User:774=> Vote:2.808734804455951\n",
      "User:7=> Vote:4.702641324997263\n",
      "User:394=> Vote:4.049127515975777\n",
      "User:267=> Vote:3.9942201321120065\n",
      "User:268=> Vote:2.8303072945259213\n",
      "User:13=> Vote:3.6329454004188544\n",
      "User:399=> Vote:3.8034264316396578\n",
      "User:145=> Vote:3.3163270870035806\n",
      "User:275=> Vote:3.4385454889063207\n",
      "User:276=> Vote:2.9388474259400303\n",
      "User:405=> Vote:3.1328947878909412\n",
      "User:279=> Vote:4.434929502049969\n",
      "User:536=> Vote:3.946910112165488\n",
      "User:922=> Vote:4.137466043143802\n",
      "User:943=> Vote:3.594980761473904\n",
      "User:28=> Vote:3.743370748158783\n",
      "User:158=> Vote:3.745641130120376\n",
      "User:417=> Vote:3.817211355314592\n",
      "User:290=> Vote:3.478271555618563\n",
      "User:38=> Vote:4.450512611314564\n",
      "User:295=> Vote:4.638378445751766\n",
      "User:796=> Vote:3.7510917805927213\n",
      "User:44=> Vote:3.422641051902006\n",
      "User:303=> Vote:3.1172044482637826\n",
      "User:307=> Vote:3.835794924392614\n",
      "User:437=> Vote:4.257448702233107\n",
      "User:183=> Vote:3.5056168920178985\n",
      "User:56=> Vote:4.202091641759343\n",
      "User:442=> Vote:3.7390549039629555\n",
      "User:533=> Vote:3.852341861648444\n",
      "User:702=> Vote:3.397071777380086\n",
      "User:194=> Vote:2.895486418181927\n",
      "User:843=> Vote:3.497665377979597\n",
      "User:70=> Vote:3.34897484467076\n",
      "User:545=> Vote:3.9942884414585005\n",
      "User:584=> Vote:3.7367483800525934\n",
      "User:457=> Vote:3.755041214216341\n",
      "User:823=> Vote:3.771918247756936\n",
      "User:332=> Vote:4.664334904031471\n",
      "User:650=> Vote:3.611004575694709\n",
      "User:334=> Vote:3.281247050752998\n",
      "User:337=> Vote:4.279631099629602\n",
      "User:215=> Vote:3.8614484695903077\n",
      "User:600=> Vote:3.5685823789836206\n",
      "User:603=> Vote:3.8326381029393137\n",
      "User:92=> Vote:3.4435696481060534\n",
      "User:222=> Vote:3.2840559463282784\n",
      "User:95=> Vote:3.2449581757489048\n",
      "User:483=> Vote:3.104846613847381\n",
      "User:102=> Vote:3.0841354969388712\n",
      "User:664=> Vote:3.422341711683302\n",
      "User:807=> Vote:4.438085077812884\n",
      "User:622=> Vote:3.182392390311055\n",
      "User:497=> Vote:3.740813301114047\n",
      "User:757=> Vote:3.656921922347114\n",
      "User:374=> Vote:3.4025600795948994\n",
      "User:532=> Vote:3.900547434621255\n",
      "User:378=> Vote:3.918931678994637\n",
      "User:638=> Vote:3.644147357566322\n",
      "User:127=> Vote:4.938596275645654\n"
     ]
    }
   ],
   "source": [
    "#Vote estime pour les utilisateurs qui n'ont pas de vote pour le film Star Trek\n",
    "for k,v in vote_for_votes.items():\n",
    "    print(\"User:\"+str(k)+\"=> Vote:\"+str(v))"
   ]
  },
  {
   "cell_type": "code",
   "execution_count": null,
   "metadata": {},
   "outputs": [],
   "source": []
  },
  {
   "cell_type": "code",
   "execution_count": null,
   "metadata": {},
   "outputs": [],
   "source": [
    "# Question 4"
   ]
  },
  {
   "cell_type": "code",
   "execution_count": 247,
   "metadata": {},
   "outputs": [],
   "source": [
    "# Question 4\n",
    "votes_exist = []\n",
    "for index, vote in votes.items():\n",
    "    if math.isnan(float(vote)) == False:\n",
    "        votes_exist.append(index) \n",
    "        \n",
    "predicted_votes = {}\n",
    "for x in votes_exist:\n",
    "    predicted_votes[x] = get_rating_item_item_for_user(x,  r_user_votes, r_matrix)"
   ]
  },
  {
   "cell_type": "code",
   "execution_count": 251,
   "metadata": {},
   "outputs": [],
   "source": [
    "real_votes = {}\n",
    "for x in votes_exist:\n",
    "    real_votes[x] = votes[x]"
   ]
  },
  {
   "cell_type": "code",
   "execution_count": 260,
   "metadata": {},
   "outputs": [],
   "source": [
    "real_votes_sorted = sorted(real_votes.items(), key=operator.itemgetter(0))\n",
    "pred_votes_sorted = sorted(predicted_votes.items(), key=operator.itemgetter(0))\n",
    "real_votes = [x[1] for x in real_votes_sorted]\n",
    "pred_votes = [x[1] for x in pred_votes_sorted]\n"
   ]
  },
  {
   "cell_type": "code",
   "execution_count": 261,
   "metadata": {},
   "outputs": [],
   "source": [
    "from sklearn.metrics import mean_squared_error"
   ]
  },
  {
   "cell_type": "code",
   "execution_count": 262,
   "metadata": {},
   "outputs": [
    {
     "data": {
      "text/plain": [
       "1.6519022703151693"
      ]
     },
     "execution_count": 262,
     "metadata": {},
     "output_type": "execute_result"
    }
   ],
   "source": [
    "# Calcul de l'erreur quadratique moyenne des prédiction de \n",
    "# l'approche item-item à la question précédente en la comparant aux valeurs observées. \n",
    "np.sqrt(mean_squared_error(real_votes, pred_votes))"
   ]
  },
  {
   "cell_type": "code",
   "execution_count": null,
   "metadata": {},
   "outputs": [],
   "source": []
  },
  {
   "cell_type": "code",
   "execution_count": null,
   "metadata": {},
   "outputs": [],
   "source": [
    "#                                     Question 5"
   ]
  },
  {
   "cell_type": "code",
   "execution_count": 321,
   "metadata": {},
   "outputs": [],
   "source": [
    "# Recuperons les films star trek et star wars\n",
    "star_trek_movies = df_user_items.loc[df_user_items['movie.title'].str.contains(\"Trek\")]['movie.id'].drop_duplicates().values\n",
    "\n",
    "star_war_movies = df_user_items.loc[df_user_items['movie.title'].str.contains(\"Wars\")]['movie.id'].drop_duplicates().values"
   ]
  },
  {
   "cell_type": "code",
   "execution_count": 322,
   "metadata": {},
   "outputs": [],
   "source": [
    "star_war_movies = list(star_war_movies)\n",
    "star_trek_movies = list(star_trek_movies)"
   ]
  },
  {
   "cell_type": "code",
   "execution_count": 352,
   "metadata": {},
   "outputs": [],
   "source": [
    "star_war_movies.append(172)\n",
    "star_war_movies.append(181)"
   ]
  },
  {
   "cell_type": "code",
   "execution_count": 419,
   "metadata": {},
   "outputs": [],
   "source": [
    "# Creons la liste des votes de l' utilisateur a coté la note la plus faible (1) \n",
    "# à tous les films de Star Wars et la note la plus forte (5) à tous les films de Star Trek.\n",
    "\n",
    "ll = [float(0) for x in range(1682)]\n",
    "s = pd.Series(ll, index=range(1,1683))\n",
    "for idx in star_war_movies:\n",
    "    s[idx] = float(1)\n",
    "for idx in star_trek_movies:\n",
    "    s[idx] = float(5)\n",
    "user_votes = s"
   ]
  },
  {
   "cell_type": "code",
   "execution_count": 430,
   "metadata": {},
   "outputs": [],
   "source": [
    "# Fonction pour obtenir les plus proches voisins d'un utilisateur selon un film'\n",
    "def get_user_nbors(user_votes, movie_id, r_user_votes_dummy):\n",
    "    nbors = {}\n",
    "    my_mat = r_matrix.loc[movie_id].dropna()\n",
    "    for i in my_mat.index:\n",
    "        nbors[i] = euclidean2(s, r_user_votes_dummy.loc[i].values)\n",
    "    nbors = sorted(nbors.items(), key=operator.itemgetter(1))\n",
    "    nbors = nbors[:20]\n",
    "    nbors = [x[0] for x in nbors]\n",
    "    return nbors\n",
    "    \n",
    "    "
   ]
  },
  {
   "cell_type": "code",
   "execution_count": 480,
   "metadata": {},
   "outputs": [],
   "source": [
    "# Fonctions utilitaires\n",
    "def l2_norm(a):\n",
    "    return math.sqrt(np.dot(a, a))\n",
    "\n",
    "def cos_similarity(a, b):\n",
    "    return np.dot(a,b) / (l2_norm(a) * l2_norm(b))"
   ]
  },
  {
   "cell_type": "code",
   "execution_count": 516,
   "metadata": {},
   "outputs": [],
   "source": [
    "# Fonction utilisee pour calculer l'estimation de vote d'un utilisateur selon l'approche utilisateur-utilisateur \n",
    "#  pour la réponse et 20 voisins rapprochés.\n",
    "def get_rating_for_user(user_votes, movie_id, r_user_votes, r_user_votes_dummy):\n",
    "    nbors = get_user_nbors(user_votes, movie_id, r_user_votes_dummy)\n",
    "    mmr_per_user = get_mean_for_items(r_user_votes, nbors)\n",
    "\n",
    "    mmr_for_user = ((len(star_war_movies)) + (5*len(star_trek_movies)))/(len(star_war_movies) + len(star_trek_movies))\n",
    "    \n",
    "                      \n",
    "#     for each item in the movie list, get cosine_weight\n",
    "    cos_weights = {}\n",
    "    for x in nbors:\n",
    "        cos_weights[x] = cos_similarity(user_votes.values, r_user_votes_dummy.loc[x].values)\n",
    "\n",
    "    g_mov_ratings = {}\n",
    "    for x in nbors:\n",
    "        g_mov_ratings[x] = r_matrix.loc[movie_id][x]\n",
    "\n",
    "    tmp_mr= sorted(g_mov_ratings.items(), key=operator.itemgetter(0))\n",
    "\n",
    "    tmp_cw=sorted(cos_weights.items(), key=operator.itemgetter(0))\n",
    "\n",
    "    tmp_mmr = sorted(mmr_per_user.items(), key=operator.itemgetter(0))\n",
    "\n",
    "    # g_mov_ratings\n",
    "    tmp_mr1 = [x[1] for x in tmp_mr]\n",
    "\n",
    "    tmp_cw1 = [x[1] for x in tmp_cw]\n",
    "\n",
    "    \n",
    "    # movie_mean_ratings, moyennes\n",
    "    tmp_mmr1 = [x[1] for x in tmp_mmr]\n",
    "    \n",
    "    \n",
    "#     Calcul selon la formule vue en classe\n",
    "    subs = list(np.subtract(np.array(tmp_mr1), np.array(tmp_mmr1)))\n",
    "    mults = [a*b for a,b in zip(tmp_cw1,subs)]\n",
    "    sum_cw = (sum(mults))/(sum(tmp_cw1))\n",
    "    return (mmr_for_user + sum_cw)\n",
    " "
   ]
  },
  {
   "cell_type": "code",
   "execution_count": 528,
   "metadata": {
    "scrolled": true
   },
   "outputs": [
    {
     "name": "stderr",
     "output_type": "stream",
     "text": [
      "/usr/local/lib/python3.5/dist-packages/ipykernel_launcher.py:36: RuntimeWarning: invalid value encountered in double_scalars\n"
     ]
    }
   ],
   "source": [
    "# Pour chaque film, nous voulons calculer l'estimation de vote de l'utilisateur en utilisant la fonction ci-haut\n",
    "\n",
    "predicted_votes_for_user = {}\n",
    "for i in range(1,1683):\n",
    "    vote = get_rating_for_user(user_votes, i, r_user_votes, r_user_votes_dummy)\n",
    "    if math.isnan(float(vote)) == False:\n",
    "        predicted_votes_for_user[i] = vote"
   ]
  },
  {
   "cell_type": "code",
   "execution_count": 529,
   "metadata": {},
   "outputs": [],
   "source": [
    "predicted_votes_for_user=sorted(predicted_votes_for_user.items(), key=operator.itemgetter(1))"
   ]
  },
  {
   "cell_type": "code",
   "execution_count": 581,
   "metadata": {
    "scrolled": true
   },
   "outputs": [
    {
     "name": "stdout",
     "output_type": "stream",
     "text": [
      "G.I. Jane (1997)\n",
      "Someone Else's America (1995)\n",
      "Saint of Fort Washington, The (1993)\n",
      "Jackal, The (1997)\n",
      "Santa with Muscles (1996)\n",
      "Aiqing wansui (1994)\n",
      "L.A. Confidential (1997)\n",
      "Boys, Les (1997)\n",
      "Great Day in Harlem, A (1994)\n",
      "Titanic (1997)\n"
     ]
    }
   ],
   "source": [
    "# Reponse Question 5: 10 films que nous conseillons\n",
    "#Les films\n",
    "for x in predicted_votes_for_user[-10:]:\n",
    "    print(df_item.loc[df_item['movie.id'] ==x[0]]['movie.title'].values[0])"
   ]
  },
  {
   "cell_type": "code",
   "execution_count": null,
   "metadata": {},
   "outputs": [],
   "source": []
  },
  {
   "cell_type": "code",
   "execution_count": null,
   "metadata": {},
   "outputs": [],
   "source": [
    "#                                        Question 6,\n"
   ]
  },
  {
   "cell_type": "code",
   "execution_count": 685,
   "metadata": {},
   "outputs": [],
   "source": [
    "\n",
    "# Le code ci-dessous est juste un algorithme bayesien pour recommander 10 films sur la base de conditions, \n",
    "# il n'est pas sense etre execute\n",
    "\n",
    "# Soit un utilisateur avec profession, sexe et ages connus respectivement x, y,z\n",
    "\n",
    "# Pour chaque film, il faudra calculer la probabilite d'avoir un vote pour cet utilisateur en sachant ces donnes\n",
    "# P(V=v| X=x, Y=y, Z=z) = P(V=v|X=x)P(V=v|Y=y)P(V=v|Z=z)\n",
    "\n",
    "#definition de la fonction pour le calcul de probabilite selon la methode de Bayes\n",
    "# Cete fonction calcule la probabilite des votes pour un film donne et retourne la liste des probabilites\n",
    "def bayes_method(ratings, condition, item):\n",
    "    # all ratings for given condition (sex, profession, age)\n",
    "    condition_ratings = ratings[condition][:].values\n",
    "    # all ratings for given movie\n",
    "    item_ratings = ratings[:][item].values\n",
    "\n",
    "    # final probability\n",
    "    probability = [0, 0, 0, 0, 0]\n",
    "\n",
    "    # hypothesis:\n",
    "    # probability for rating (1-5)\n",
    "    probability_of_rating = [0, 0, 0, 0, 0]\n",
    "\n",
    "    # ratings frequency for given item\n",
    "    ratings_frequencies_item = [0, 0, 0, 0, 0]\n",
    "\n",
    "    # calculate frequency for ratings (for given item)\n",
    "    for rating in item_ratings:\n",
    "        # rating is in range (1-5), represented by indexes (0-4)\n",
    "        ratings_frequencies_item[rating - 1] += 1\n",
    "\n",
    "    # calculate probability of each rating for given item\n",
    "    for i in range(5):\n",
    "        probability_of_rating[i] = ratings_frequencies_item[i] / sum(ratings_frequencies_item)\n",
    "\n",
    "    # for every movie that user has rated\n",
    "    # calculate the probability of each rating\n",
    "    conditional_probabilities = np.zeros((len(condition_ratings), 5))\n",
    "    for movie, rating in enumerate(condition_ratings):\n",
    "        item_ratings = ratings[:, movie]\n",
    "        for i in range(5):\n",
    "            total_frequency = 0\n",
    "            # frequency that rating shows for this movie\n",
    "            for rating in item_ratings:\n",
    "                if (rating == (i+1)):\n",
    "                    total_frequency += 1\n",
    "            # conditional probability = frequency of rating for\n",
    "            # desired item i / frequency of rating for item j\n",
    "            if (total_frequency > 0):\n",
    "                conditional_probabilities[movie][i] = ratings_frequencies_item[i] / total_frequency\n",
    "            else:\n",
    "                conditional_probabilities[movie][i] = 0\n",
    "\n",
    "    # probability of rating i = probability of rating i\n",
    "    # for desired item * product of conditional probabilities for rating i\n",
    "    for i in range(5):\n",
    "        productory = np.prod(conditional_probabilities[:, i])\n",
    "        probability[i] = probability_of_rating[i] * productory\n",
    "    return probability\n",
    "\n",
    "# Fonction principale de prediction selon l'algorithme bayesien, \n",
    "# qui recoit en entre, la matrice des votes, la liste des films et les conditions'\n",
    "def get_prediction_movie(df_user_items, movies, sex, profession, age):\n",
    "    ratings_per_profession =df_user_items.pivot_table(values='rating', index='profession', columns='movie.id')\n",
    "    ratings_per_sex =df_user_items.pivot_table(values='rating', index='sex', columns='movie.id')\n",
    "    ratings_per_age = df_user_items.pivot_table(values='rating', index='age', columns='movie.id')\n",
    "    for item in movies:\n",
    "        probabilty_by_sex = bayes_method(ratings_per_sex, sex, item)\n",
    "        probabilty_by_profession = bayes_method(ratings_per_profession, profession, item)\n",
    "        probabilty_by_age = bayes_method(ratings_per_age, age, item)\n",
    "            \n",
    "#         Multiplions les probabilites et choisissons la position du tableau \n",
    "#             avec la plus grand probabilite plus 1 pour avoir le vote\n",
    "        prediction = np.argmax(np.dot(probabilty_by_sex, probabilty_by_profession, probabilty_by_age)) +  1\n",
    "        predictions[item] = prediction\n",
    "    return prediction\n",
    "\n",
    "\n"
   ]
  },
  {
   "cell_type": "code",
   "execution_count": null,
   "metadata": {},
   "outputs": [],
   "source": []
  },
  {
   "cell_type": "code",
   "execution_count": null,
   "metadata": {},
   "outputs": [],
   "source": [
    "#                          Question 7\n"
   ]
  },
  {
   "cell_type": "code",
   "execution_count": null,
   "metadata": {},
   "outputs": [],
   "source": [
    "# Question 7: Validation croisee\n",
    "#  retirer aléatoirement une partie des utilisateurs ayant vu Star Trek, \n",
    "# recalculer les poids et distances et prédire le vote de ces utilisateurs retirés pour calculer leur RMSE."
   ]
  },
  {
   "cell_type": "code",
   "execution_count": 682,
   "metadata": {},
   "outputs": [
    {
     "name": "stdout",
     "output_type": "stream",
     "text": [
      "User:896=> Vote:3.2129950545295363\n",
      "User:130=> Vote:4.395835833748503\n",
      "User:5=> Vote:3.5739432014309958\n",
      "User:774=> Vote:2.808734804455951\n",
      "User:7=> Vote:4.702641324997263\n",
      "User:394=> Vote:4.049127515975777\n",
      "User:267=> Vote:3.9942201321120065\n",
      "User:268=> Vote:2.8303072945259213\n",
      "User:13=> Vote:3.6329454004188544\n",
      "User:399=> Vote:3.8034264316396578\n",
      "User:145=> Vote:3.3163270870035806\n",
      "User:275=> Vote:3.4385454889063207\n",
      "User:276=> Vote:2.9388474259400303\n",
      "User:405=> Vote:3.1328947878909412\n",
      "User:279=> Vote:4.434929502049969\n",
      "User:536=> Vote:3.946910112165488\n",
      "User:922=> Vote:4.137466043143802\n",
      "User:943=> Vote:3.594980761473904\n",
      "User:28=> Vote:3.743370748158783\n",
      "User:158=> Vote:3.745641130120376\n",
      "User:417=> Vote:3.817211355314592\n",
      "User:290=> Vote:3.478271555618563\n",
      "User:38=> Vote:4.450512611314564\n",
      "User:295=> Vote:4.638378445751766\n",
      "User:796=> Vote:3.7510917805927213\n",
      "User:44=> Vote:3.422641051902006\n",
      "User:303=> Vote:3.1172044482637826\n",
      "User:307=> Vote:3.835794924392614\n",
      "User:437=> Vote:4.257448702233107\n",
      "User:183=> Vote:3.5056168920178985\n",
      "User:56=> Vote:4.202091641759343\n",
      "User:442=> Vote:3.7390549039629555\n",
      "User:533=> Vote:3.852341861648444\n",
      "User:702=> Vote:3.397071777380086\n",
      "User:194=> Vote:2.895486418181927\n",
      "User:843=> Vote:3.497665377979597\n",
      "User:70=> Vote:3.34897484467076\n",
      "User:545=> Vote:3.9942884414585005\n",
      "User:584=> Vote:3.7367483800525934\n",
      "User:457=> Vote:3.755041214216341\n",
      "User:823=> Vote:3.771918247756936\n",
      "User:332=> Vote:4.664334904031471\n",
      "User:650=> Vote:3.611004575694709\n",
      "User:334=> Vote:3.281247050752998\n",
      "User:337=> Vote:4.279631099629602\n",
      "User:215=> Vote:3.8614484695903077\n",
      "User:600=> Vote:3.5685823789836206\n",
      "User:603=> Vote:3.8326381029393137\n",
      "User:92=> Vote:3.4435696481060534\n",
      "User:222=> Vote:3.2840559463282784\n",
      "User:95=> Vote:3.2449581757489048\n",
      "User:483=> Vote:3.104846613847381\n",
      "User:102=> Vote:3.0841354969388712\n",
      "User:664=> Vote:3.422341711683302\n",
      "User:807=> Vote:4.438085077812884\n",
      "User:622=> Vote:3.182392390311055\n",
      "User:497=> Vote:3.740813301114047\n",
      "User:757=> Vote:3.656921922347114\n",
      "User:374=> Vote:3.4025600795948994\n",
      "User:532=> Vote:3.900547434621255\n",
      "User:378=> Vote:3.918931678994637\n",
      "User:638=> Vote:3.644147357566322\n",
      "User:127=> Vote:4.938596275645654\n"
     ]
    }
   ],
   "source": [
    "#  retirer aléatoirement une partie des utilisateurs ayant vu Star Trek, \n",
    "strek_users = df_user_items.loc[df_user_items['movie.title'] == 'Star Trek V: The Final Frontier (1989)']['id'].values\n",
    "strek_users = list(strek_users)[:45]\n",
    "r_matrix_copy = r_matrix.copy()\n",
    "for user in strek_users:\n",
    "    del(r_matrix_copy[user])\n",
    "    if user in no_votes:\n",
    "        no_votes.remove(user)\n",
    "    \n",
    "# Reprise Question 3\n",
    "vote_for_no_votes = {}\n",
    "for x in no_votes:\n",
    "    vote_for_no_votes[x] = get_rating_item_item_for_user(x, r_user_votes, r_matrix)\n",
    "    \n",
    "# Vote estime pour les utilisateurs qui n'ont pas de vote pour le film Star Trek\n",
    "for k,v in vote_for_votes.items():\n",
    "    print(\"User:\"+str(k)+\"=> Vote:\"+str(v))"
   ]
  },
  {
   "cell_type": "code",
   "execution_count": 681,
   "metadata": {},
   "outputs": [
    {
     "data": {
      "text/plain": [
       "1.6519022703151693"
      ]
     },
     "execution_count": 681,
     "metadata": {},
     "output_type": "execute_result"
    }
   ],
   "source": [
    "# Reprise question 4\n",
    "votes_exist = []\n",
    "for index, vote in votes.items():\n",
    "    if math.isnan(float(vote)) == False:\n",
    "        votes_exist.append(index) \n",
    "        \n",
    "predicted_votes = {}\n",
    "for x in votes_exist:\n",
    "    predicted_votes[x] = get_rating_item_item_for_user(x,r_user_votes, r_matrix)\n",
    "\n",
    "real_votes = {}\n",
    "for x in votes_exist:\n",
    "    real_votes[x] = votes[x]\n",
    "\n",
    "real_votes_sorted = sorted(real_votes.items(), key=operator.itemgetter(0))\n",
    "pred_votes_sorted = sorted(predicted_votes.items(), key=operator.itemgetter(0))\n",
    "real_votes = [x[1] for x in real_votes_sorted]\n",
    "pred_votes = [x[1] for x in pred_votes_sorted]\n",
    "\n",
    "np.sqrt(mean_squared_error(real_votes, pred_votes))"
   ]
  }
 ],
 "metadata": {
  "kernelspec": {
   "display_name": "Python 3",
   "language": "python",
   "name": "python3"
  },
  "language_info": {
   "codemirror_mode": {
    "name": "ipython",
    "version": 3
   },
   "file_extension": ".py",
   "mimetype": "text/x-python",
   "name": "python",
   "nbconvert_exporter": "python",
   "pygments_lexer": "ipython3",
   "version": "3.5.2"
  }
 },
 "nbformat": 4,
 "nbformat_minor": 2
}
